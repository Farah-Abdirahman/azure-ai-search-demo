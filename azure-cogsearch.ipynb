{
 "cells": [
  {
   "cell_type": "code",
   "execution_count": 5,
   "metadata": {},
   "outputs": [],
   "source": [
    "from dotenv import load_dotenv,dotenv_values\n",
    "import os\n",
    "\n",
    "# Getting Envoronment Variables\n",
    "env_name = \".env\"\n",
    "config = dotenv_values(env_name)\n"
   ]
  },
  {
   "cell_type": "markdown",
   "metadata": {},
   "source": [
    "#   Retrieve Credentials from Azure Key Vault"
   ]
  },
  {
   "cell_type": "code",
   "execution_count": 6,
   "metadata": {},
   "outputs": [
    {
     "name": "stdout",
     "output_type": "stream",
     "text": [
      "Key Vault Name: pharmacy-keyvault\n"
     ]
    }
   ],
   "source": [
    "from azure.core.credentials import AzureKeyCredential\n",
    "from azure.identity import DefaultAzureCredential\n",
    "from azure.keyvault.secrets import SecretClient\n",
    "from openai import AzureOpenAI\n",
    "from azure.search.documents import SearchClient\n",
    "\n",
    "# Initializing Keyvault\n",
    "key_vault = config['key_vault']\n",
    "print(f\"Key Vault Name: {key_vault}\")\n",
    "key_vault_url = f\"https://{key_vault}.vault.azure.net\"\n",
    "credential = DefaultAzureCredential()\n",
    "secret_client = SecretClient(vault_url=key_vault_url, credential=credential)\n",
    "\n",
    "# Embedding credentials\n",
    "openai_key = secret_client.get_secret(\"Embedding-Key\").value\n",
    "openai_endpoint = secret_client.get_secret(\"Embedding-Endpoint\").value\n",
    "\n",
    "# Chat completion credentials\n",
    "chat_key = secret_client.get_secret(\"OpenAI-API-Key\").value\n",
    "chat_endpoint = secret_client.get_secret(\"OpenAI-Endpoint\").value\n",
    "\n",
    "# Azure AI Search Credentials\n",
    "database = secret_client.get_secret(\"Database\").value\n",
    "username = secret_client.get_secret(\"Username\").value\n",
    "password = secret_client.get_secret(\"Password\").value\n",
    "server = secret_client.get_secret(\"Server\").value\n",
    "\n",
    "# Azure AI Search Credentials\n",
    "search_service_endpoint = secret_client.get_secret(\"Search-Service-Endpoint\").value\n",
    "cog_search_key = secret_client.get_secret(\"Search-Service-Api-Key\").value\n",
    "cog_search_name = secret_client.get_secret(\"Search-Service-Name\").value\n",
    "cog_search_index = secret_client.get_secret(\"Search-Service-Index\").value\n",
    "# search_client = SearchClient(endpoint=search_service_endpoint, index_name=\"search-review\", credential=AzureKeyCredential(search_service_key))\n",
    "\n",
    "# # Create an instance of the AzureOpenAI class\n",
    "embedding_client = AzureOpenAI(azure_endpoint=openai_endpoint,api_key=openai_key,api_version=\"2024-02-15-preview\")\n",
    "chat_client = AzureOpenAI(azure_endpoint=chat_endpoint,api_key=chat_key,api_version=\"2024-02-15-preview\")\n",
    "\n",
    "# # Models"
   ]
  },
  {
   "cell_type": "markdown",
   "metadata": {},
   "source": [
    "## The samples follow a RAG pattern that include the following steps:\n",
    "\n",
    "1. Add sample data to an Azure SQL database product\n",
    "2. Create embeddings from the sample data using an Azure OpenAI Embeddings model\n",
    "3. Link the Azure database product to Azure AI Search (for databases without native vector indexing)\n",
    "3. Create a vector index on the embeddings\n",
    "4. Perform vector similarity search\n",
    "5. Perform question answering over the sample data using an Azure OpenAI Chat Completions model\n",
    "\n",
    "This dataset consists of reviews of fine foods from amazon. The data span a period of more than 10 years, including all ~500,000 reviews up to October 2012. Reviews include product and user information, ratings, and a plain text review. It also includes reviews from all other Amazon categories.\n"
   ]
  },
  {
   "cell_type": "code",
   "execution_count": 7,
   "metadata": {},
   "outputs": [
    {
     "name": "stdout",
     "output_type": "stream",
     "text": [
      "Connected to Azure SQL Database successfully!\n"
     ]
    }
   ],
   "source": [
    "import pyodbc\n",
    "\n",
    "\n",
    "driver = '{ODBC Driver 18 for SQL Server}'\n",
    "\n",
    "# Connection String\n",
    "connection_string = f\"DRIVER={driver};SERVER={server};DATABASE={database};UID={username};PWD={password}\"\n",
    "\n",
    "# Lets establish a connection\n",
    "conn = pyodbc.connect(connection_string)\n",
    "cursor = conn.cursor()\n",
    "\n",
    "print(\"Connected to Azure SQL Database successfully!\")\n"
   ]
  },
  {
   "cell_type": "code",
   "execution_count": 3,
   "metadata": {},
   "outputs": [
    {
     "name": "stdout",
     "output_type": "stream",
     "text": [
      "Table created successfully........\n",
      "Index created successfully........\n"
     ]
    }
   ],
   "source": [
    "# Loading Database\n",
    "cursor.execute(\"DROP TABLE IF EXISTS food_review\")\n",
    "\n",
    "# Create Table\n",
    "cursor.execute(\"CREATE TABLE food_review (Id integer, ProductId text, UserId text, ProfileName text, HelpfulnessDenominator integer, HelpfulnessNumerator integer, Score integer, Time integer, Summary text, Text text)\")\n",
    "print(\"Table created successfully........\")\n",
    "\n",
    "# create index\n",
    "cursor.execute(\"CREATE INDEX idx_Id ON food_review(Id);\")\n",
    "print(\"Index created successfully........\")\n"
   ]
  },
  {
   "cell_type": "code",
   "execution_count": 4,
   "metadata": {},
   "outputs": [],
   "source": [
    "# Load Data\n",
    "import numpy as np\n",
    "import pandas as pd\n",
    "df = pd.read_csv('Reviews_small.csv')\n",
    "\n",
    "# Specify Batch size\n",
    "batch_size = 40\n",
    "table_name = \"food_review\"\n",
    "\n",
    "# Split the dataframe into batches\n",
    "batches = [df[i:i + batch_size] for i in range(0, len(df), batch_size)]\n",
    "\n",
    "# Iterate over each batch and insert the data into the database\n",
    "for batch in batches:\n",
    "    #Convert the batch  dataframe to a list of tuples for bulk insertion\n",
    "    rows = [tuple(row) for row in batch.itertuples(index=False)]\n",
    "\n",
    "    # Define Query\n",
    "    query = f\"INSERT INTO {table_name} (Id, ProductId, UserId, ProfileName, HelpfulnessNumerator, HelpfulnessDenominator, Score, Time, Summary, Text) VALUES (?, ?, ?, ?, ?, ?, ?, ?, ?, ?)\"\n",
    "    cursor.executemany(query, rows)\n",
    "\n",
    "    "
   ]
  },
  {
   "cell_type": "code",
   "execution_count": 5,
   "metadata": {},
   "outputs": [
    {
     "name": "stdout",
     "output_type": "stream",
     "text": [
      "(99,)\n"
     ]
    }
   ],
   "source": [
    "try:\n",
    "    cursor.execute(\"SELECT count(Id) FROM food_review\")\n",
    "    rows = cursor.fetchall()\n",
    "    for row in rows:\n",
    "        print(row)\n",
    "except Exception as e:\n",
    "    print(f\"Error Executing Query: {e}\")"
   ]
  },
  {
   "cell_type": "code",
   "execution_count": 6,
   "metadata": {},
   "outputs": [],
   "source": [
    "# Retrieve data from the database\n",
    "\n",
    "try:\n",
    "    cursor.execute(\"SELECT id, CONCAT('productid: ', productid, ' ', 'score: ', score, ' ', 'text: ', text) AS concat FROM food_review;\")\n",
    "    rows = cursor.fetchall()\n",
    "except Exception as e:\n",
    "    print(f\"Error executing query: {e}\")\n",
    "    "
   ]
  },
  {
   "cell_type": "code",
   "execution_count": 7,
   "metadata": {},
   "outputs": [
    {
     "name": "stdout",
     "output_type": "stream",
     "text": [
      "Key Vault Name: pharmacy-keyvault\n"
     ]
    }
   ],
   "source": [
    "from azure.core.credentials import AzureKeyCredential\n",
    "from azure.identity import DefaultAzureCredential\n",
    "from azure.keyvault.secrets import SecretClient\n",
    "from openai import AzureOpenAI\n",
    "from azure.search.documents import SearchClient\n",
    "\n",
    "# Initializing Keyvault\n",
    "key_vault = config['key_vault']\n",
    "print(f\"Key Vault Name: {key_vault}\")\n",
    "key_vault_url = f\"https://{key_vault}.vault.azure.net\"\n",
    "credential = DefaultAzureCredential()\n",
    "secret_client = SecretClient(vault_url=key_vault_url, credential=credential)\n",
    "\n",
    "# Embedding credentials\n",
    "openai_key = secret_client.get_secret(\"Embedding-Key\").value\n",
    "openai_endpoint = secret_client.get_secret(\"Embedding-Endpoint\").value\n",
    "\n",
    "# Chat completion credentials\n",
    "chat_key = secret_client.get_secret(\"OpenAI-API-Key\").value\n",
    "chat_endpoint = secret_client.get_secret(\"OpenAI-Endpoint\").value\n",
    "\n",
    "\n",
    "# Azure AI Search Credentials\n",
    "search_service_endpoint = secret_client.get_secret(\"Search-Service-Endpoint\").value\n",
    "cog_search_key = secret_client.get_secret(\"Search-Service-Api-Key\").value\n",
    "cog_search_name = secret_client.get_secret(\"Search-Service-Name\").value\n",
    "cog_search_index = secret_client.get_secret(\"Search-Service-Index\").value\n",
    "# search_client = SearchClient(endpoint=search_service_endpoint, index_name=\"search-review\", credential=AzureKeyCredential(search_service_key))\n",
    "\n",
    "# # Create an instance of the AzureOpenAI class\n",
    "embedding_client = AzureOpenAI(azure_endpoint=openai_endpoint,api_key=openai_key,api_version=\"2024-02-15-preview\")\n",
    "chat_client = AzureOpenAI(azure_endpoint=chat_endpoint,api_key=chat_key,api_version=\"2024-02-15-preview\")\n",
    "\n",
    "# # Models"
   ]
  },
  {
   "cell_type": "code",
   "execution_count": 8,
   "metadata": {},
   "outputs": [
    {
     "name": "stdout",
     "output_type": "stream",
     "text": [
      "Processing row: (1, 'productid: B001E4KFG0 score: 5 text: I have bought several of the Vitality canned dog food products and have found them all to be of good quality. The product looks more like a stew than a processed meat and it smells better. My Labrador is finicky and she appreciates this product better than  most.')\n",
      "Processing row: (2, 'productid: B00813GRG4 score: 1 text: Product arrived labeled as Jumbo Salted Peanuts...the peanuts were actually small sized unsalted. Not sure if this was an error or if the vendor intended to represent the product as \"Jumbo\".')\n",
      "Processing row: (3, 'productid: B000LQOCH0 score: 4 text: This is a confection that has been around a few centuries.  It is a light, pillowy citrus gelatin with nuts - in this case Filberts. And it is cut into tiny squares and then liberally coated with powdered sugar.  And it is a tiny mouthful of heaven.  Not too chewy, and very flavorful.  I highly recommend this yummy treat.  If you are familiar with the story of C.S. Lewis\\' \"The Lion, The Witch, and The Wardrobe\" - this is the treat that seduces Edmund into selling out his Brother and Sisters to the Witch.')\n",
      "Processing row: (4, 'productid: B000UA0QIQ score: 2 text: If you are looking for the secret ingredient in Robitussin I believe I have found it.  I got this in addition to the Root Beer Extract I ordered (which was good) and made some cherry soda.  The flavor is very medicinal.')\n",
      "Processing row: (5, 'productid: B006K2ZZ7K score: 5 text: Great taffy at a great price.  There was a wide assortment of yummy taffy.  Delivery was very quick.  If your a taffy lover, this is a deal.')\n",
      "Processing row: (6, 'productid: B006K2ZZ7K score: 4 text: I got a wild hair for taffy and ordered this five pound bag. The taffy was all very enjoyable with many flavors: watermelon, root beer, melon, peppermint, grape, etc. My only complaint is there was a bit too much red/black licorice-flavored pieces (just not my particular favorites). Between me, my kids, and my husband, this lasted only two weeks! I would recommend this brand of taffy -- it was a delightful treat.')\n",
      "Processing row: (7, \"productid: B006K2ZZ7K score: 5 text: This saltwater taffy had great flavors and was very soft and chewy.  Each candy was individually wrapped well.  None of the candies were stuck together, which did happen in the expensive version, Fralinger's.  Would highly recommend this candy!  I served it at a beach-themed party and everyone loved it!\")\n",
      "Processing row: (8, 'productid: B006K2ZZ7K score: 5 text: This taffy is so good.  It is very soft and chewy.  The flavors are amazing.  I would definitely recommend you buying it.  Very satisfying!!')\n",
      "Processing row: (9, \"productid: B000E7L2R4 score: 5 text: Right now I'm mostly just sprouting this so my cats can eat the grass. They love it. I rotate it around with Wheatgrass and Rye too\")\n",
      "Processing row: (10, 'productid: B00171APVA score: 5 text: This is a very healthy dog food. Good for their digestion. Also good for small puppies. My dog eats her required amount at every feeding.')\n",
      "Processing row: (11, \"productid: B0001PB9FE score: 5 text: I don't know if it's the cactus or the tequila or just the unique combination of ingredients, but the flavour of this hot sauce makes it one of a kind!  We picked up a bottle once on a trip we were on and brought it back home with us and were totally blown away!  When we realized that we simply couldn't find it anywhere in our city we were bummed.<br /><br />Now, because of the magic of the internet, we have a case of the sauce and are ecstatic because of it.<br /><br />If you love hot sauce..I mean really love hot sauce, but don't want a sauce that tastelessly burns your throat, grab a bottle of Tequila Picante Gourmet de Inclan.  Just realize that once you taste it, you will never want to use any other sauce.<br /><br />Thank you for the personal, incredible service!\")\n",
      "Processing row: (12, \"productid: B0009XLVG0 score: 5 text: One of my boys needed to lose some weight and the other didn't.  I put this food on the floor for the chubby guy, and the protein-rich, no by-product food up higher where only my skinny boy can jump.  The higher food sits going stale.  They both really go for this food.  And my chubby boy has been losing about an ounce a week.\")\n",
      "Processing row: (13, \"productid: B0009XLVG0 score: 1 text: My cats have been happily eating Felidae Platinum for more than two years. I just got a new bag and the shape of the food is different. They tried the new food when I first put it in their bowls and now the bowls sit full and the kitties will not touch the food. I've noticed similar reviews related to formula changes in the past. Unfortunately, I now need to find a new food that my cats will eat.\")\n",
      "Processing row: (14, 'productid: B001GVISJM score: 4 text: good flavor! these came securely packed... they were fresh and delicious! i love these Twizzlers!')\n",
      "Processing row: (15, 'productid: B001GVISJM score: 5 text: The Strawberry Twizzlers are my guilty pleasure - yummy. Six pounds will be around for a while with my son and I.')\n",
      "Processing row: (16, \"productid: B001GVISJM score: 5 text: My daughter loves twizzlers and this shipment of six pounds really hit the spot. It's exactly what you would expect...six packages of strawberry twizzlers.\")\n",
      "Processing row: (17, 'productid: B001GVISJM score: 2 text: I love eating them and they are good for watching TV and looking at movies! It is not too sweet. I like to transfer them to a zip lock baggie so they stay fresh so I can take my time eating them.')\n",
      "Processing row: (18, 'productid: B001GVISJM score: 5 text: I am very satisfied with my Twizzler purchase.  I shared these with others and we have all enjoyed them.  I will definitely be ordering more.')\n",
      "Processing row: (19, 'productid: B001GVISJM score: 5 text: Twizzlers, Strawberry my childhood favorite candy, made in Lancaster Pennsylvania by Y & S Candies, Inc. one of the oldest confectionery Firms in the United States, now a Subsidiary of the Hershey Company, the Company was established in 1845 as Young and Smylie, they also make Apple Licorice Twists, Green Color and Blue Raspberry Licorice Twists, I like them all<br /><br />I keep it in a dry cool place because is not recommended it to put it in the fridge. According to the Guinness Book of Records, the longest Licorice Twist ever made measured 1.200 Feet (370 M) and weighted 100 Pounds (45 Kg) and was made by Y & S Candies, Inc. This Record-Breaking Twist became a Guinness World Record on July 19, 1998. This Product is Kosher! Thank You')\n",
      "Processing row: (20, 'productid: B001GVISJM score: 5 text: Candy was delivered very fast and was purchased at a reasonable price.  I was home bound and unable to get to a store so this was perfect for me.')\n",
      "Waiting...\n",
      "Processing row: (21, \"productid: B001GVISJM score: 5 text: My husband is a Twizzlers addict.  We've bought these many times from Amazon because we're government employees living overseas and can't get them in the country we are assigned to.  They've always been fresh and tasty, packed well and arrive in a timely manner.\")\n",
      "Processing row: (22, 'productid: B001GVISJM score: 5 text: I bought these for my husband who is currently overseas. He loves these, and apparently his staff likes them also.<br />There are generous amounts of Twizzlers in each 16-ounce bag, and this was well worth the price. <a href=\"http://www.amazon.com/gp/product/B001GVISJM\">Twizzlers, Strawberry, 16-Ounce Bags (Pack of 6)</a>')\n",
      "Processing row: (23, \"productid: B001GVISJM score: 5 text: I can remember buying this candy as a kid and the quality hasn't dropped in all these years. Still a superb product you won't be disappointed with.\")\n",
      "Processing row: (24, 'productid: B001GVISJM score: 5 text: I love this candy.  After weight watchers I had to cut back but still have a craving for it.')\n",
      "Processing row: (25, \"productid: B001GVISJM score: 5 text: I have lived out of the US for over 7 yrs now, and I so miss my Twizzlers!!  When I go back to visit or someone visits me, I always stock up.  All I can say is YUM!<br />Sell these in Mexico and you will have a faithful buyer, more often than I'm able to buy them right now.\")\n",
      "Processing row: (26, 'productid: B001GVISJM score: 5 text: Product received is as advertised.<br /><br /><a href=\"http://www.amazon.com/gp/product/B001GVISJM\">Twizzlers, Strawberry, 16-Ounce Bags (Pack of 6)</a>')\n",
      "Processing row: (27, 'productid: B001GVISJM score: 1 text: The candy is just red , No flavor . Just  plan and chewy .  I would never buy them again')\n",
      "Processing row: (28, 'productid: B001GVISJM score: 4 text: I was so glad Amazon carried these batteries.  I have a hard time finding them elsewhere because they are such a unique size.  I need them for my garage door opener.<br />Great deal for the price.')\n",
      "Processing row: (29, \"productid: B00144C10S score: 5 text: I got this for my Mum who is not diabetic but needs to watch her sugar intake, and my father who simply chooses to limit unnecessary sugar intake - she's the one with the sweet tooth - they both LOVED these toffees, you would never guess that they're sugar-free and it's so great that you can eat them pretty much guilt free!  i was so impressed that i've ordered some for myself (w dark chocolate) to take to the office so i'll eat them instead of snacking on sugary sweets.<br />These are just EXCELLENT!\")\n",
      "Processing row: (30, \"productid: B0001PB9FY score: 5 text: I don't know if it's the cactus or the tequila or just the unique combination of ingredients, but the flavour of this hot sauce makes it one of a kind!  We picked up a bottle once on a trip we were on and brought it back home with us and were totally blown away!  When we realized that we simply couldn't find it anywhere in our city we were bummed.<br /><br />Now, because of the magic of the internet, we have a case of the sauce and are ecstatic because of it.<br /><br />If you love hot sauce..I mean really love hot sauce, but don't want a sauce that tastelessly burns your throat, grab a bottle of Tequila Picante Gourmet de Inclan.  Just realize that once you taste it, you will never want to use any other sauce.<br /><br />Thank you for the personal, incredible service!\")\n",
      "Processing row: (31, \"productid: B003F6UO7K score: 5 text: I have never been a huge coffee fan. However, my mother purchased this little machine and talked me into trying the Latte Macciato. No Coffee Shop has a better one and I like most of the other products, too (as a usually non-coffee drinker!).<br />The little Dolche Guesto Machine is super easy to use and prepares a really good Coffee/Latte/Cappuccino/etc in less than a minute (if water is heated up). I would recommend the Dolce Gusto to anyone. Too good for the price and I'am getting one myself! :)\")\n",
      "Processing row: (32, 'productid: B003F6UO7K score: 5 text: This offer is a great price and a great taste, thanks Amazon for selling this product.<br /><br />Staral')\n",
      "Processing row: (33, \"productid: B001EO5QW8 score: 4 text: McCann's Instant Oatmeal is great if you must have your oatmeal but can only scrape together two or three minutes to prepare it. There is no escaping the fact, however, that even the best instant oatmeal is nowhere near as good as even a store brand of oatmeal requiring stovetop preparation.  Still, the McCann's is as good as it gets for instant oatmeal. It's even better than the organic, all-natural brands I have tried.  All the varieties in the McCann's variety pack taste good.  It can be prepared in the microwave or by adding boiling water so it is convenient in the extreme when time is an issue.<br /><br />McCann's use of actual cane sugar instead of high fructose corn syrup helped me decide to buy this product.  Real sugar tastes better and is not as harmful as the other stuff. One thing I do not like, though, is McCann's use of thickeners.  Oats plus water plus heat should make a creamy, tasty oatmeal without the need for guar gum. But this is a convenience product.  Maybe the guar gum is why, after sitting in the bowl a while, the instant McCann's becomes too thick and gluey.\")\n",
      "Processing row: (34, \"productid: B001EO5QW8 score: 4 text: This is a good instant oatmeal from the best oatmeal brand.  It uses cane sugar instead of high fructouse corn syrup, so not only does it have a better sweetness, but some doctors now say that this form of sugar is better for you.  Great on a cold morning when you don't have time to make McCann's Steel Cut Oats.  The apple cinnamon is the best but the maple and brown sugar or the regular are good too.  Plus they don't require doctoring to actually tell the three flavors apart.\")\n",
      "Processing row: (35, \"productid: B001EO5QW8 score: 5 text: Instant oatmeal can become soggy the minute the water hits the bowl. McCann's Instant Oatmeal holds its texture, has excellent flavor, and is good for you all at the same time. McCann's regular oat meal is excellent, too, but may take a bit longer to prepare than most have time for in the morning. This is the best instant brand I've ever eaten, and a very close second to the non-instant variety.<br /><br />McCann's Instant Irish Oatmeal, Variety Pack of Regular, Apples & Cinnamon, and Maple & Brown Sugar, 10-Count Boxes (Pack of 6)\")\n",
      "Processing row: (36, \"productid: B001EO5QW8 score: 4 text: McCann's Instant Irish Oatmeal, Variety Pack of Regular, Apples & Cinnamon, and Maple & Brown Sugar, 10-Count Boxes (Pack of 6)<br /><br />I'm a fan of the McCann's steel-cut oats, so I thought I'd give the instant variety a try. I found it to be a hardy meal, not too sweet, and great for folks like me (post-bariatric surgery) who need food that is palatable, easily digestible, with fiber but won't make you bloat.\")\n",
      "Processing row: (37, \"productid: B001EO5QW8 score: 5 text: For those of us with celiac disease this product is a lifesaver and what could be better than getting it at almost half the price of the grocery or health food store!  I love McCann's instant oatmeal - all flavors!!!<br /><br />Thanks,<br />Abby\")\n",
      "Processing row: (38, \"productid: B001EO5QW8 score: 5 text: What else do you need to know? Oatmeal, instant (make it with a half cup of low-fat milk and add raisins;nuke for 90 seconds). More expensive than Kroger store brand oatmeal and maybe a little tastier or better texture or something. It's still just oatmeal. Mmm, convenient!\")\n",
      "Processing row: (39, 'productid: B001EO5QW8 score: 4 text: I WAS VISITING MY FRIEND NATE THE OTHER MORNING FOR COFFEE , HE CAME OUT OF HIS STORAGE ROOM WITH ( A PACKET OF McCANNS INSTANT IRISH OATMEAL .) HE SUGGESTED THAT I TRY IT FOR MY OWN USE ,IN MY STASH . SOMETIMES NATE DOSE NOT GIVE YOU A CHANCE TO SAY NO , SO I ENDED UP TRYING THE APPLE AND CINN . FOUND IT TO BE VERY TASTEFULL WHEN MADE WITH WATER OR POWDERED MILK . IT GOES GOOD WITH O.J. AND COFFEE AND A SLICE OF TOAST AND YOUR READY TO TAKE ON THE WORLD...OR THE DAY AT LEAST..  JERRY REITH...')\n",
      "Processing row: (40, 'productid: B001EO5QW8 score: 5 text: I ordered this for my wife as it was reccomended by our daughter.  She has this almost every morning and likes all flavors.  She\\'s happy, I\\'m happy!!!<br /><a href=\"http://www.amazon.com/gp/product/B001EO5QW8\">McCANN\\'S Instant Irish Oatmeal, Variety Pack of Regular, Apples & Cinnamon, and Maple & Brown Sugar, 10-Count Boxes (Pack of 6)</a>')\n",
      "Waiting...\n",
      "Processing row: (41, \"productid: B001EO5QW8 score: 5 text: The variety packs taste great!<br /><br />I have them every morning. At $0.30 cents per meal, I don't understand why everyone on earth isn't buying this stuff up.<br /><br />Maple and brown sugar is terrific, followed by apples and cinnamon, followed by regular. You don't get tired of the same ole thing, and they taste great.<br /><br />I just boil water from a small pot, empty the packet or 2 in a bowl, pour in boiling water, and watch it expand to 2x its size!<br /><br />Taste really good and takes minutes to prepare.<br /><br />Not sure why everyone on earth isn't this. Convenient, healthy, very quick, excellent quality, and extremely cheap...\")\n",
      "Processing row: (42, \"productid: B001EO5QW8 score: 5 text: McCann's makes oatmeal for every oatmeal connoisseur, whether one likes it from the raw pellet state that cooks for half an hour, to the sloth addled instant, which can be done in the microwave for under three minutes. It's all good, that's for sure, and the beauty of the instant variety is that it is available in different flavors as well as regular.<br />  This variety pack allows different tastes to be explored, as well as giving you a chance to experience the difference between McCann's and other well-known oatmeals. What I personally like about McCann's is that it cooks up thicker and with more body than the top brand here in America. The Apples & Cinnamon, though, tends to be a little liquidy so you may want to experiment with the amount of water you add. In my 1300watt microwave the oatmeal cooks up in about one minute and twenty-seven seconds, so you should also watch that to get a handle on how much time and water to use.<br />  The only bad thing -- if you can consider it a bad thing -- about this offering is that you have to buy in lot so you'll end up with six ten-count boxes. This is good if you have a whole family of oatmeal-eaters, but if you're a single person alone -- well, love oatmeal.\")\n",
      "Processing row: (43, \"productid: B001EO5QW8 score: 5 text: I have McCann's Oatmeal every morning and by ordering it from Amazon I am able to save almost $3.00 per box.<br />It is a great product. Tastes great and very healthy\")\n",
      "Processing row: (44, \"productid: B001EO5QW8 score: 5 text: McCann's Oatmeal is a good quality choice.  Our favorite is the Apples and Cinnamon, but we find that none of these are overly sugary.  For a good hot breakfast in 2 minutes, this is excellent.\")\n",
      "Processing row: (45, \"productid: B001EO5QW8 score: 5 text: We really like the McCann's steel cut oats but find we don't cook it up too often.<br />This tastes much better to me than the grocery store brands and is just as convenient.<br />Anything that keeps me eating oatmeal regularly is a good thing.\")\n",
      "Processing row: (46, \"productid: B001EO5QW8 score: 3 text: This seems a little more wholesome than some of the supermarket brands, but it is somewhat mushy and doesn't have quite as much flavor either.  It didn't pass muster with my kids, so I probably won't buy it again.\")\n",
      "Processing row: (47, \"productid: B001EO5QW8 score: 5 text: Good oatmeal.  I like the apple cinnamon the best.  Though I wouldn't follow the directions on the package since it always comes out too soupy for my taste.  That could just be me since I like my oatmeal really thick to add some milk on top of.\")\n",
      "Processing row: (48, 'productid: B001EO5QW8 score: 3 text: The flavors are good.  However, I do not see any differce between this and Oaker Oats brand - they are both mushy.')\n",
      "Processing row: (49, \"productid: B001EO5QW8 score: 4 text: I really like the Maple and Brown Sugar flavor. The regular is fine with brown sugar added. The Apples and Cinnamon flavor is OK. This is a very quick, easy and satisfying breakfast and I'll order this brand again, but not the variety. I'll get all Maple and Brown Sugar.\")\n",
      "Processing row: (50, 'productid: B001EO5QW8 score: 3 text: This is the same stuff you can buy at the big box stores.  There is nothing healthy about it.  It is just carbs and sugars.  Save your money and get something that at least has some taste.')\n",
      "Processing row: (51, \"productid: B001EO5QW8 score: 1 text: This oatmeal is not good. Its mushy, soft, I don't like it. Quaker Oats is the way to go.\")\n",
      "Processing row: (52, 'productid: B000G6RPMY score: 5 text: Got a free package of these with a bottle of bloody mary mix I bought from the seller, and the advertising worked..lol,  I tried them, and shared them with 2 buddies, and we all loved them...  So im here to buy more, and noticed there were no reviews yet,...  well now there is.  They are Hot,  but not \"burn your mouth forever hot\"  its a nice temp...  Perfect for us..')\n",
      "Processing row: (53, \"productid: B000G6RPMY score: 4 text: This wasn't in stock the last time I looked. I had to go to the Vermont Country Store in Weston to find it along with a jaw harp, Cranberry Horseradish Sauce, Fartless Black Bean Salsa, Apple Cider Jelly, Newton's Cradle Art in Motion and the staple Vermont Maple Syrup.<br /><br />Back to the Ass Kickin Peanuts. They are hot. They will activate the perspiration glands behind your ears and under your arms. It requires a beverage as advertised, a glass of very cold milk, and a box of Kleenex since it will make your nose run. They look like ordinary peanuts which is already giving me ideas for work. I suspect that some people have been hitting my goodies in my absence, especially my colleague Greg. I'm going to take this to work at earliest opportunity and empty the contents of this can into an ordinary Planters Peanuts can, and then see whose crying or whose nose is running when I return.<br /><br />The can should be shaken to ensure the spices are evenly distributed. It is important to wash your hands after consumption and not touch the eyes.<br /><br />You'll go nuts over these Ass-Kickin' Peanuts.<br /><br />P.S. I'm not sharing the peanuts, not deliberately, and I'll probably give Greg the jaw harp for Christmas. He'll be so insulted.\")\n",
      "Processing row: (54, \"productid: B000G6RPMY score: 3 text: we're used to spicy foods down here in south texas and these are not at all spicy.  doubt very much habanero is used at all.  could take it up a notch or two.\")\n",
      "Processing row: (55, \"productid: B002GWHC0G score: 4 text: I roast at home with a stove-top popcorn popper (but I do it outside, of course). These beans (Coffee Bean Direct Green Mexican Altura) seem to be well-suited for this method. The first and second cracks are distinct, and I've roasted the beans from medium to slightly dark with great results every time. The aroma is strong and persistent. The taste is smooth, velvety, yet lively.\")\n",
      "Processing row: (56, \"productid: B002GWHC0G score: 5 text: We roast these in a large cast iron pan on the grill (about 1/3 of the bag at a time).  The smell is wonderful and the roasted beans taste delicious too.  More importantly, the coffee is smooth; no bitter aftertaste.  On numerous occasions, we've had to send the roasted beans home with friends because they like it so much.\")\n",
      "Processing row: (57, \"productid: B004N5KULM score: 5 text: Deal was awesome!  Arrived before Halloween as indicated and was enough to satisfy trick or treaters.  I love the quality of this product and it was much less expensive than the local store's candy.\")\n",
      "Processing row: (58, 'productid: B004N5KULM score: 5 text: It is chocolate, what can I say.  Great variety of everything our family loves.  With a family of six it goes fast here.  Perfect variety.  Kit Kat, Reeses, take five and more.')\n",
      "Processing row: (59, 'productid: B004N5KULM score: 5 text: Great product, nice combination of chocolates and perfect size!  The bags had plenty, and they were shipped promptly.  The kids in the neighborhood liked our candies!')\n",
      "Processing row: (60, 'productid: B004N5KULM score: 5 text: Halloween is over but, I sent a bag to my daughters class for her share. The chocolate was fresh and enjoyed by many.')\n",
      "Waiting...\n",
      "Processing row: (61, 'productid: B004N5KULM score: 3 text: Watch your prices with this.  While the assortment was good, and I did get this on a gold box purchase, the price for this was<br />$3-4 less at Target.')\n",
      "Processing row: (62, 'productid: B004N5KULM score: 5 text: This bag of candy online is pretty expensive, it should be cheaper in order to compete with grocery stores, other than that, its a good combination of my favorite candy')\n",
      "Processing row: (63, 'productid: B001EO5TPM score: 1 text: Arrived in 6 days and were so stale i could not eat any of the 6 bags!!')\n",
      "Processing row: (64, 'productid: B005DUM9UQ score: 5 text: I have used the endurolyte product for several years in both pill and powder form.  Long desert rides on the dirt bike always found my camelbak water heavily laced with the endurolyte powder, not overly tasty, but quite effective, as I never got a cramp on these several hundred mile rides.  Same for desert racing in the buggy, the camelbaks were always laced with the powder.  Now we have the Fizz...what a great product!  Firstly, its Hammer\\'s endurolyte product so it\\'s great, endurance athlete\\'s the world over use their products. Second its convenient, handly tablets that dissovle in a fizz.  Third it tastes great! Imagine getting a nice cool drink when your body is starving for hydration and electrolytes and rather than getting a \"salty\" taste, you get a refreshing lemon-lime or mango!  The camelbaks always get the Fizz now.  I also drop a tablet in my bottled water whenever I exercise and have a nice flavored water chock full of electrolytes. I cannot recommend this product or any hammer product highly enough.')\n",
      "Processing row: (65, 'productid: B005DUM9UQ score: 5 text: This product serves me well as a source of electrolytes during and after a long run or bike ride.<br />I have tried all of the flavors but really do like the grapefruit flavor... no after-taste and I actually like the slight carbonation.<br />I use other Hammer products and really like their whole product line.')\n",
      "Processing row: (66, \"productid: B005DUM9UQ score: 5 text: This stuff really works for preventing cramping during the middle to latter stages of your rides. Pop 1 into each water bottle and you're set. Flavor is fine and goes down easy.\")\n",
      "Processing row: (67, 'productid: B005DUM9UQ score: 5 text: For those of us on a low carb diet these little tablets are just the thing.<br /><br />Two years ago I started cycling again after many years but was having heart arrhythmia after longer rides in high heat.  I was drinking plain water but did a little research and thought electrolytes might be the issue.  Gatorade wasn\\'t an option because it is so loaded with carbohydrates so I looked around for a low-carb alternative.  The \"zero carb\" sports drinks didn\\'t help so what to do?  One day I ran across these at my bike shop so tried a tube of them.....voila!...problem solved!!<br /><br />I\\'ve shared them with two friends in particular whose problems with leg cramps were resolved while using these.<br /><br />These guys got it right -- they are superbly formulated and simply work.....')\n",
      "Processing row: (68, \"productid: B005DUM9UQ score: 2 text: I purchased the Mango flavor, and to me it doesn't take like Mango at all.  There is no hint of sweetness, and unfortunately there is a hint or aftertaste almost like licorice.  I've been consuming various sports nutrition products for decades, so I'm familiar and have come to like the taste of the most of the products I've tried.  The mango flavor is one of the least appealing I've tasted.  It's not terrible, but it's bad enough that I notice the bad taste every sip I take.\")\n",
      "Processing row: (69, \"productid: B000E7VI7S score: 3 text: If you're impulsive like me, then $6 is ok. Don't get me wrong, the quality of these babies is very good and I have no complaints. But in retrospect, the price is a little ridiculous (esp. when you add on the shipping).\")\n",
      "Processing row: (70, 'productid: B000E7VI7S score: 5 text: this was sooooo deliscious but too bad i ate em too fast and gained 2 pds! my fault')\n",
      "Processing row: (71, \"productid: B001GVISJC score: 5 text: These Albanese gummi bears and rings and so on are very good and tasty and high quality. The bears even have little faces. At my local candy store this type of gummi stuff (bears, rings, snakes, balls, worms, whatever) are about $10/lb. These twin packs of 4.5 or 5 pound bags is a screaming deal as far as I'm concerned. I'm probably 50 pounds deep in these friggin' things. Consumed!\")\n",
      "Processing row: (72, \"productid: B001GVISJC score: 5 text: Grape gummy bears are hard to find in my area. In fact pretty much anyone I talk to about grape gummy bears they think I'm lying. So I bought 10lbs... : ) These bears are a little bit bigger then the other brands and have kind of sour kick, but nothing to strong. I love grape flavored candy/soda and these are pretty good. There is another company that makes grape gummy bears that are a little bit better in my opinion, but these are well worth it for the price. I like to use the gummy bears in home made Popsicles with flavored sports drink. The salt in the sports drink makes for softer popsicles, and the gummy bears are awesome frozen. They are delicious!\")\n",
      "Processing row: (73, \"productid: B006SQBRMA score: 5 text: I ordered two of these and two of raspberry latice tarts directly from FantasiCakes website for a dinner party I was hosting. It arrived fresh and intact. Very good size. I froze half for later use. I am a pastry lover and these were the best I've ever tasted. The pastry was soft, the jam was really good and the taste was great. They were gone in no time. My guests were really impressed.\")\n",
      "Processing row: (74, 'productid: B0059WXJKM score: 1 text: Buyer Beware Please! This sweetener is not for everybody.  Maltitol is an alcohol sugar and can be undigestible in the body.  You will know a short time after consuming it if you are one of the unsuspecting many who cannot digest it by the extreme intestinal bloating and cramping and massive amounts of gas a person can experience. Nausea, diarrhea & headaches can also be experienced. I learned my lesson the hard way years ago when I fell in love with the sugar-free chocolates suzanne sommers used to sell.  I thought I\\'d found sugar-free chocolate nirvana at first taste but the bliss was short lived when the terrible side effects of maltitol kicked in.  The discomfort was unlike anything I had ever felt before.  I blew up like a balloon and had very painful abdominal cramping.  As the symptoms passed, this too was very unpleasant.  Though hard for me to believe a low calorie sweetener could be the culprit, all symptoms were gone when I stopped eating the chocolate. My hunch it had something to do with the maltitol were unfortunately confirmed for me about a year later when I purchased some delicious sugar-free popcorn at my local market.  The taste was amazing and while I was looking at the label wondering what could possibly make this yummy, new sugarfree treat taste so good, my heart sank when I followed the little asterisk next to sugarfree sweetener* down to the very bottom of the label and read \"maltitol\" in tiny little letters! Thank goodness I\\'d eaten only a little. I still ended up with all the same side-effects but for a much shorter duration. Some people can use maltitol to their heart\\'s content but others, like me, can have a bad reaction to it. In case you\\'re like me, ... it\\'s not you ...it\\'s the maltitol!')\n",
      "Processing row: (75, 'productid: B001EPPI84 score: 2 text: It is okay.  I would not go out of my way to buy it again')\n",
      "Processing row: (76, 'productid: B001EPPI84 score: 1 text: No tea flavor at all. Just whole brunch of artifial flavors. It is not returnable. I wasted 20+ bucks.')\n",
      "Processing row: (77, \"productid: B004X2KR36 score: 5 text: These looked like a perfect snack to through in with my trail mix.  Unfortunately, they arrived in a solid mass of melted chocolate.  I left them in my pantry for a few days, and when I opened them at room temperature they were still gooey.  I through them in the fridge and I've been breaking off hunks ever since.  They taste good to me, but the chocolate is all grainy after melting and then solidifying again.  I won't order them online again, but if I see them in a store I would pick them up.\")\n",
      "Processing row: (78, 'productid: B004X2KR36 score: 5 text: These taste really good. I have been purchasing a different brand and these are very similar in taste and texture. I agree with the other reviewer regarding ordering in the summer. There is no insulating packaging with ice packs so they will melt in warm weather like all chocolate food items. Order in cold weather and buy enough to last!!!')\n",
      "Processing row: (79, 'productid: B004X2KR36 score: 3 text: The taste was great, but the berries had melted.  May order again in winter. If you order in cold weather you should enjoy flavor.')\n",
      "Processing row: (80, 'productid: B005R8JE8O score: 5 text: i know i cannot make tea this good.  granted, i am not from the south but i know i have never enjoyed tea that was this sweet without being too sweet.  it tastes crisp.')\n",
      "Waiting...\n",
      "Processing row: (81, \"productid: B0066DMI6Y score: 5 text: This peppermint stick is delicious and fun to eat.  My dad got me one for Christmas because he remembered me having a similar one when I was a little girl.  I'm 30 now and I love it!\")\n",
      "Processing row: (82, 'productid: B0066DMI6Y score: 4 text: Great gift for all ages! I purchased these giant canes before and the recipients loved them so much, they kept them and would not eat them.')\n",
      "Processing row: (83, 'productid: B003ZFRKGO score: 5 text: I know the product title says Molecular Gastronomy, but don\\'t let that scare you off.  I have been looking for this for a while now, not for food science, but for something more down to earth.  I use it to make my own coffee creamer.<br /><br />I have to have my coffee blonde and sweet - but the flavored creamers are full of the bad kinds of fat, and honestly, I hate to use manufactured \"food\" items.  I really don\\'t think they are good for the body.  On the other hand, I hate using cold milk or cream, because I like HOT coffee.<br /><br />I stumbled across this on Amazon one day and got the idea of making my own creamer.  I also bought low-fat (non-instant) milk powder and regular milk powder. The non-instant lowfat milk is a little sweeter and tastes fresher than regular instant low-fat milk, but does not dissolve good in cold water - which is not a problem for hot coffee.  You will have to play with the ratios - I would not do just the heavy cream, it made the coffee too rich. Also, I think the powder is too expensive to just use on it\\'s own. I like mixing 1/3 of each together.<br /><br />For flavoring, I bough cocoa bean powder, vanilla bean powder, and caster (superfine) sugar.  I mix up small batches along with spices like cinnamon and nutmeg to make my own flavored creamers.  If you wanted, you could use a fake sweetner powder instead.  I make up small amounts that I store in jelly canning jars. I also use my little food chopper/food processor to blend everything, so the sugar is not heavier and sinks to the bottom.  Let it settle for a bit before opening the top though.<br /><br />This stuff tastes WAY better than the storebought creamers and it is fun to experiment and come up with your own flavors.  I am going to try using some essential oils next and see if I can get a good chocolate/orange mix.<br /><br />All of the ingredients I mentioned are here online.  Take the time to experiment.  Maybe you don\\'t use any low-fat milk. Or don\\'t add any flavorings.  It is up to you.  Also, would make great housewarming/host(ess) gifts.<br /><br />I am sure other molecular people will be able to tell you more of what you can do with it, and I am sure I will experiment with it in cooking - but the main reason I bought it was to make my own creamer and it worked out great.')\n",
      "Processing row: (84, 'productid: B0019CW0HE score: 3 text: While my dogs like all of the flavors that we have tried of this dog food, for some reason their itching increased when I tried the lamb and rice. I have some very itchy dogs and am giving them a limited ingredient dog food to try to help. The duck and sweet potato cut down on the itching significantly, but when we tried lamb and rice they started itching more once again. I like Natural Balance for the quality ingredients.')\n",
      "Processing row: (85, 'productid: B0019CW0HE score: 3 text: Awesome dog food. However, when given to my \"Boston\", who has severe reactions to some food ingredients; his itching increased to violent jumping out of bed at night, scratching. As soon as I changed to a different formula, the scratching stopped. So glad Natural Balance has other choices. I guess you have to try each, until you find what\\'s best for your pet.')\n",
      "Processing row: (86, 'productid: B0019CW0HE score: 5 text: We have three dogs and all of them love this food!  We bought it specifically for one of our dogs who has food allergies and it works great for him, no more hot spots or tummy problems.<br />I LOVE that it ships right to our door with free shipping.')\n",
      "Processing row: (87, \"productid: B0019CW0HE score: 5 text: My dog has a ton of allergies both environmental and food. She was on a prescription dog food before we had her tested to see what allergies she has. After we got the test back, we learned she was allergic to something in the prescription brand. So I finally found this dog food and she has done so well on this! She still has her environmental triggers, but I am happy she can finally eat something I know won't cause her pain.\")\n",
      "Processing row: (88, \"productid: B0019CW0HE score: 5 text: My shepherd/collie mix has IBS.  Our vet recommended a limited ingredient food.  This has really helped her symptoms and she likes it.  I will always buy it from Amazon...it's $10 cheaper and free shipping!\")\n",
      "Processing row: (89, \"productid: B0019CW0HE score: 5 text: Natural Balance Dry Dog Food Lamb Meal and Brown Rice Recipe did wonders for my Jack Russell. She has awful food allergy's and this food was our last hope because it was the last food we could find that didn't have SOMETHING in it that she was allergic to. She has no problem eating it dry but normally I mix the Natural Balance Dry Lamb and Brown Rice with the Natural Balance Wet Lamb and Brown Rice.. she seems to like that better. We started feeding it to our other dog (a Bichon) too and she loves it. If your dog has allergy's or stomach issue.. or if you want your dog to eat better food-- this is it! You will see a difference in your pet.\")\n",
      "Processing row: (90, \"productid: B0019CW0HE score: 5 text: Great food! I love the idea of one food for all ages & breeds. Ît's a real convenience as well as a really good product.  My 3 dogs eat less, have almost no gas, their poop is regular and a perfect consistency, what else can a mom ask for!!\")\n",
      "Processing row: (91, 'productid: B0019CW0HE score: 5 text: I have a standard poodle and pomeranian who both do wonderful on this food. I have switched them to a different food (due to price) a couple of times and end up going right back to natural balance.')\n",
      "Processing row: (92, 'productid: B0019CW0HE score: 5 text: This is great dog food, my dog has severs allergies and this brand is the only one that we can feed him.')\n",
      "Processing row: (93, 'productid: B0019CW0HE score: 5 text: This food is great - all ages dogs.  I have a 3 year old and a puppy.  They are both so soft and hardly ever get sick.  The food is good especially when you have Amazon Prime shipping  :)')\n",
      "Processing row: (94, \"productid: B0019CW0HE score: 5 text: My golden retriever is one of the most picky dogs I've ever met.  After experimenting with various types of food, I have found she loves natural balance.  What I really like about natural balance is the fact that it has multiple flavors in dry and wet varieties.  I mix her dry food with a little wet food and my golden loves it.  Furthermore, I do like mixing up the flavors each time as I think the same meal day over day might get a little boring, so I figured why not.  I tend to stay away from the fish type though as it smells...<br /><br />Additionally, I started purchasing off Amazon because Petco didn't have the wet food box and only had a couple of cans.  I came home and to my surprise realized that I could save $20 each time I bought dog food if I just buy it off Amazon.<br /><br />All in all, I definitely recommend and give my stamp of approval to natural balance dog food.  While I have never eaten it, my dog seems to love it.\")\n",
      "Processing row: (95, \"productid: B0019CW0HE score: 5 text: This is the same food we get at pet store. But it's delivered to my door! And for the same price or slightly less.\")\n",
      "Processing row: (96, \"productid: B0019CW0HE score: 5 text: I've been very pleased with the Natural Balance dog food. Our dogs have had issues with other dog foods in the past and I had someone recommend Natural Balance grain free since it is possible they were allergic to grains. Since switching I haven't had any issues. It is also helpful that have have different kibble size for larger/smaller sized dogs.\")\n",
      "Processing row: (97, 'productid: B0019CW0HE score: 5 text: My 1-1/2 year old basenji/jack russell mix loves this dog food. He\\'s been noticeably healthier and more energetic since I switched him over from the standard dog foods earlier this year. Despite the higher cost of natural dog foods, I find that he eats significantly less of the Natural Balance dog foods and still stays happy and full. On the normal dog foods, he\\'d eat up to 3 cups of dog food a day (the recommended serving for his size), whereas he only eats about 1 cup to 1-1/2 cup of the Natural Balance dog food a day. When you take this into account, you\\'re actually getting more \"bang for your buck\" with the natural dog foods since you don\\'t have to buy as much to last just as long as the normal dog foods... and a healthier, happier dog, to boot! Add in the fact that you can get free, 2-day shipping with Amazon Prime... I\\'m sold!!')\n",
      "Processing row: (98, \"productid: B0019CW0HE score: 5 text: Our pup has experienced allergies in forms of hotspots and itching from other dog foods. The cheap 'you can buy it anywhere' food not only have crazy preservatives in them but can cause health problems for your pets.  This food works wonders on reducing allergies and our dog loves the food.<br />This message is RAMSEY FrAnkenSteiN approved.\")\n",
      "Processing row: (99, \"productid: B0019CW0HE score: 5 text: My English Bulldog had skin allergies the summer we got him at age 3.  The vet recommended we wean him off the food his previous owner gave him (Iams Lamb and Rice) and onto a new kind.  This was the second one we tried, and it has been working ever since.  It's for dogs that need a limited diet who can be sensitive to additives and proteins commonly found in commercial dog food (like chicken or beef).\")\n",
      "                                           embeddings\n",
      "1   [-0.005931428167968988, -0.0029030460864305496...\n",
      "2   [-0.02565687894821167, -0.015715675428509712, ...\n",
      "3   [0.011375042609870434, 0.007475225254893303, -...\n",
      "4   [0.007999514229595661, 0.006785121746361256, -...\n",
      "5   [-0.023731747642159462, -0.009233467280864716,...\n",
      "..                                                ...\n",
      "95  [0.011156400665640831, -0.029125768691301346, ...\n",
      "96  [-0.0005582490703091025, -0.015792978927493095...\n",
      "97  [0.00986411515623331, -0.009730273857712746, 0...\n",
      "98  [-0.007069896906614304, 0.005039758514612913, ...\n",
      "99  [-0.0009106227662414312, 0.0021059191785752773...\n",
      "\n",
      "[99 rows x 1 columns]\n"
     ]
    }
   ],
   "source": [
    "import time\n",
    "import pandas as pd\n",
    "\n",
    "def createEmbeddings(text):\n",
    "    try:\n",
    "        response = embedding_client.embeddings.create(input=text, model='text-embedding-ada-002')\n",
    "        embeddings = response.data[0].embedding  # Correctly access the embedding\n",
    "        return embeddings\n",
    "    except Exception as e:\n",
    "        print(f\"Error creating embeddings for text: {text}\\nError: {e}\")\n",
    "        return None\n",
    "\n",
    "content_embeddings = []\n",
    "idx = []\n",
    "sleep_timer = 1\n",
    "\n",
    "for row in rows:\n",
    "    print(f\"Processing row: {row}\")  # Here we try and debug the statement\n",
    "    if not isinstance(row[1], str):\n",
    "        row[1] = str(row[1])  # Convert to string if not already\n",
    "\n",
    "    idx.append(row[0])\n",
    "    embedding = createEmbeddings(row[1])\n",
    "    if embedding:\n",
    "        content_embeddings.append(embedding)\n",
    "\n",
    "    if sleep_timer % 20 == 0:\n",
    "        print(\"Waiting...\")\n",
    "        time.sleep(10)\n",
    "    sleep_timer += 1\n",
    "\n",
    "df = pd.DataFrame({'embeddings': content_embeddings}, index=idx)  # Storing embeddings in a dataframe\n",
    "print(df)\n"
   ]
  },
  {
   "cell_type": "markdown",
   "metadata": {},
   "source": [
    "## Store the embeddings in Azure Cognitive Search Vector Store\n",
    "AzureCogSearch provides a simple interface to create a vector database, store and retrieve data using vector search. You can read more about here more about Vector Search.\n",
    "\n",
    "There are two steps to store data in AzureCogSearch vector database:\n",
    "\n",
    "First, we create the index (or schema) of the vector database\n",
    "Second, we add the chunked documents and their embeddings to the vector datastore"
   ]
  },
  {
   "cell_type": "code",
   "execution_count": 9,
   "metadata": {},
   "outputs": [
    {
     "name": "stdout",
     "output_type": "stream",
     "text": [
      "204\n"
     ]
    }
   ],
   "source": [
    "import requests\n",
    "import json\n",
    "\n",
    "EMBEDDING_LENGTH = 1536\n",
    "\n",
    "# Create Index for the Search with fields as id, and contentVector\n",
    "url = f\"https://{cog_search_name}.search.windows.net/indexes/{cog_search_index}?api-version=2023-10-01-Preview\"\n",
    "payload = json.dumps({\n",
    "  \"name\": cog_search_index,\n",
    "  \"fields\": [\n",
    "    {\n",
    "      \"name\": \"id\",\n",
    "      \"type\": \"Edm.String\",\n",
    "      \"key\": True,\n",
    "      \"filterable\": True\n",
    "    },\n",
    "    {\n",
    "      \"name\": \"contentVector\",\n",
    "      \"type\": \"Collection(Edm.Single)\",\n",
    "      \"searchable\": True,\n",
    "      \"retrievable\": True,\n",
    "      \"dimensions\": EMBEDDING_LENGTH,\n",
    "      \"vectorSearchProfile\": \"my-vector-search-profile\"\n",
    "    }\n",
    "  ],\n",
    "  \"vectorSearch\": {\n",
    "    \"algorithms\": [\n",
    "      {\n",
    "        \"name\": \"my-hnsw-config\",\n",
    "        \"kind\": \"hnsw\",\n",
    "        # \"hnswParameters\": {\n",
    "        #   \"m\": 4,\n",
    "        #   \"efConstruction\": 400,\n",
    "        #   \"metric\": \"cosine\"\n",
    "        # }\n",
    "      }\n",
    "    ],\n",
    "    \"profiles\": [\n",
    "       {\n",
    "         \"name\": \"my-vector-search-profile\",\n",
    "         \"algorithm\": \"my-hnsw-config\"\n",
    "       }\n",
    "     ]\n",
    "  },\n",
    "  \"semantic\": {\n",
    "    \"configurations\": [\n",
    "      {\n",
    "        \"name\": \"my-semantic-config\",\n",
    "        \"prioritizedFields\": {\n",
    "          \"prioritizedContentFields\": [\n",
    "            {\n",
    "              \"fieldName\": \"id\"\n",
    "            }\n",
    "          ],\n",
    "        }\n",
    "      }\n",
    "    ]\n",
    "  }\n",
    "})\n",
    "headers = {\n",
    "  'Content-Type': 'application/json',\n",
    "  'api-key': cog_search_key\n",
    "}\n",
    "\n",
    "response = requests.request(\"PUT\", url, headers=headers, data=payload)\n",
    "print(response.status_code)"
   ]
  },
  {
   "cell_type": "code",
   "execution_count": 10,
   "metadata": {},
   "outputs": [
    {
     "name": "stdout",
     "output_type": "stream",
     "text": [
      "payload of size 99\n",
      "start: {'id': '1', 'contentVector': [-0.005931428167968988, -0.0029030460864305496, -0.016761111095547676, 0.0030588689260184765, -0.009152894839644432, 0.029782475903630257, -0.005121827125549316, -0.046475838869810104, -0.02475549653172493, -0.03260083496570587, -0.0016285174060612917, 0.04430786892771721, -0.02872559055685997, -0.007147523108869791, -0.026842167600989342, 0.007885987870395184, 0.03056836500763893, -0.0001247005711775273, -0.010440126061439514, -0.005585907958447933, -0.03165234997868538, 0.0008765031234361231, 0.00010098840721184388, -0.008983521722257137, -0.006598756182938814, -0.009810060262680054, 0.019403323531150818, -0.012655519880354404, -0.002560913562774658, 0.012133852578699589, 0.01616491936147213, 0.00803503580391407, -0.03569019213318825, -0.004637421574443579, 0.009396791458129883, 0.004962616600096226, -0.001298240851610899, -0.016828861087560654, 0.032655034214258194, -0.03135425224900246, -0.003338333684951067, 0.022790774703025818, 0.025324588641524315, -0.015487429685890675, -0.020433109253644943, -0.0007139054359868169, -0.022560428828001022, 0.0022323306184262037, 0.0035703741014003754, 0.012540346011519432, 0.04433497041463852, 0.01665271259844303, -0.0066529554314911366, -0.007012024987488985, 0.02025696076452732, -0.003401001449674368, 0.019037479534745216, -0.008502503857016563, 0.011679933406412601, -0.011063417419791222, 0.0006948510417714715, 0.0010577318025752902, -0.011686708778142929, -0.000637264340184629, 0.005670594051480293, -0.03761426359415054, -0.026124028488993645, -0.0009484865004196763, 0.004905030131340027, 0.011795107275247574, 0.017032107338309288, 0.007885987870395184, -0.007994386367499828, 0.03227563947439194, 0.023752812296152115, 0.02235718071460724, -0.021571293473243713, 0.0038684699684381485, 0.018820682540535927, -0.017438601702451706, 0.02016211301088333, -0.044470466673374176, -0.0033772895112633705, 0.0263814739882946, 0.019511722028255463, 0.003346802433952689, -0.012811342254281044, 0.015108034946024418, -0.0022695926018059254, -0.013983400538563728, 0.00560284499078989, 0.03148975223302841, 0.013515932485461235, 0.007222047075629234, -0.0223842803388834, -0.009179994463920593, 0.022790774703025818, 0.0389692448079586, -0.006077088415622711, -0.023657962679862976, -0.018522586673498154, -0.012865541502833366, 0.0018343051197007298, -0.006026276852935553, -0.02062280662357807, -0.004190277773886919, -0.024498051032423973, -0.015243533067405224, 0.02102930098772049, -0.000539451721124351, -0.015514529310166836, 0.018847782164812088, 0.016693362966179848, -0.033115729689598083, -0.008360231295228004, 0.016056520864367485, 0.03942994028329849, -0.025392338633537292, -0.02438965253531933, -0.009247743524610996, 0.005026978440582752, 0.01567712612450123, 0.05243775248527527, -0.005396210588514805, 0.009755861014127731, 0.00978973601013422, -0.011923830024898052, -0.006486969999969006, 0.005894165951758623, -0.0030639502219855785, 0.02943018078804016, 0.030893560498952866, 0.02182873897254467, 0.003878632327541709, -0.019200077280402184, 0.03864404931664467, -0.027099614962935448, 0.0026625371538102627, 0.018522586673498154, -0.0032350164838135242, 0.020053714513778687, 0.027289310470223427, -0.011124391108751297, 0.00013719178969040513, -0.00955938920378685, 0.0194846224039793, 0.0028962711803615093, 0.04606934264302254, -0.023292118683457375, -0.0019156039925292134, -0.0016479953192174435, -0.031760748475790024, 0.02570398338139057, 0.014511843211948872, 0.0030419316608458757, -0.011707033030688763, -0.0038921821396797895, 0.021042849868535995, 0.0016403734916821122, 0.015744876116514206, -0.0020053714979439974, -0.01631396822631359, -0.03279053419828415, -0.019037479534745216, -0.004247864708304405, 0.03392871841788292, 0.030839361250400543, -0.02037891000509262, -0.001077209715731442, -0.0014430544106289744, 0.022059086710214615, 0.02386121079325676, -0.013366884551942348, 0.021571293473243713, -0.010108156129717827, 0.0069984751753509045, 0.008841249160468578, -0.012032228522002697, -0.02869849093258381, 0.0040886541828513145, 0.005636719521135092, 0.006768128834664822, 0.04634033888578415, 0.019782718271017075, 0.009674562141299248, 0.006815552711486816, 0.028644291684031487, -0.0038921821396797895, 0.03211304172873497, -0.006222748663276434, 0.027072515338659286, 0.006127900443971157, 0.006917176302522421, -0.018861331045627594, -0.6438868045806885, -0.03845435380935669, -0.005846741609275341, -0.007106873672455549, 0.029050786048173904, 0.029809575527906418, -0.0010145418345928192, 0.005392823368310928, -0.003323090262711048, 0.017411502078175545, -0.019511722028255463, 0.02367151342332363, -0.018847782164812088, 0.004058167338371277, -0.0003315468493383378, -0.034904301166534424, 0.003401001449674368, -0.026923466473817825, -0.009064820595085621, 0.01924072578549385, -0.013969850726425648, -0.0019410098902881145, -0.01613781973719597, -0.027858402580022812, 0.015934573486447334, -0.006951050832867622, 0.016788210719823837, -0.01080597098916769, 0.011280214414000511, 0.0173031035810709, -0.006625855807214975, 0.03102905862033367, -0.008543153293430805, 0.021286746487021446, 0.052844248712062836, -0.005636719521135092, 0.012967165559530258, 0.0169372595846653, 0.021760990843176842, 0.021842289716005325, -0.02761450596153736, -0.012221925891935825, 0.006568268872797489, -0.004271576646715403, -0.028156498447060585, 0.020649906247854233, 0.015094485133886337, 0.0280751995742321, -0.015785524621605873, -0.015744876116514206, 0.006917176302522421, -0.013048464432358742, -0.006829102523624897, -0.010243654251098633, 0.010108156129717827, -0.0029064335394650698, 0.032465338706970215, -0.024525150656700134, 0.0035534368362277746, 0.007255921605974436, 0.013820802792906761, 0.004319000989198685, 0.007425294257700443, -0.021422244608402252, -0.035419195890426636, 0.02161194197833538, -0.02802100032567978, -0.0016691668424755335, 0.021964237093925476, -0.01148346159607172, 0.007540467660874128, 0.03547339513897896, -0.02146289497613907, 0.010534974746406078, 0.014552492648363113, 0.002935227006673813, 0.009633912704885006, 0.011463136412203312, 0.011415712535381317, 0.006182099226862192, 0.003915894310921431, -0.012967165559530258, -0.01964722014963627, -0.0045798346400260925, -0.01638171635568142, 0.009701661765575409, -0.03257373720407486, -0.007655641064047813, 0.004264801740646362, -0.012967165559530258, 0.0029267582576721907, 0.016571413725614548, 0.005247162654995918, -0.033847417682409286, -0.029023686423897743, 0.011571534909307957, -0.02441675215959549, 0.033169928938150406, 0.025636235252022743, -0.04124561324715614, -0.04018872603774071, 0.018048342317342758, 0.015338381752371788, -0.0008858186192810535, 0.00014015581109561026, 0.04390137642621994, -0.02050085738301277, -0.00017837050836533308, -0.0037736212834715843, -0.017316652461886406, 0.007716615218669176, -0.0023813785519450903, -0.0038515327032655478, -0.03349512442946434, -0.036042485386133194, -0.02257397770881653, 0.005944977980107069, 0.005494446959346533, -0.015229983255267143, -0.014416994526982307, 0.012553895823657513, -0.004112366586923599, 0.0028573155868798494, 0.011510561220347881, -0.020216312259435654, 0.016110720112919807, -0.002444046549499035, 0.01034527737647295, 0.010365602560341358, -0.019565921276807785, 0.004017517901957035, 0.020582156255841255, 0.012723268941044807, -0.0071813976392149925, -0.012912966310977936, 0.04094751551747322, 0.013475283049046993, -0.007872438058257103, 0.020555056631565094, -0.009830385446548462, -0.0020307772792875767, -0.0007206803420558572, 0.0013812334509566426, -0.03569019213318825, 0.0059788525104522705, -0.005799317266792059, -0.014376345090568066, -0.0010687410831451416, -0.0007435456500388682, 0.005470734555274248, -0.014769289642572403, 0.007669190876185894, -0.015121584758162498, -0.005768830422312021, 0.014376345090568066, -7.707775694143493e-06, -0.0036211858969181776, -0.015026736073195934, 0.0127029437571764, -0.01625976897776127, 0.016449466347694397, 0.016422366723418236, -0.021625492721796036, 0.00505746528506279, -0.006876526866108179, -0.016354616731405258, 0.01582617498934269, 0.02173389121890068, -0.012072877958416939, -0.023414066061377525, 0.01539258100092411, -0.022858524695038795, -0.0037566840182989836, 0.012567445635795593, 0.006822327617555857, 0.004153016023337841, -0.030812261626124382, 0.000626678578555584, -0.00926806777715683, 0.017926394939422607, -0.0025219577364623547, 0.014159548096358776, -0.0177908968180418, -0.005928040482103825, 0.022790774703025818, 0.013597231358289719, -0.0029962011612951756, 0.04430786892771721, -0.022804325446486473, 0.028861088678240776, 0.008915772661566734, 0.0053894356824457645, 0.005673981737345457, 0.006873139645904303, -0.028590092435479164, -0.0168153103441, -0.007669190876185894, 0.008685425855219364, 0.0018207553075626493, -0.02613757736980915, 0.01822449080646038, -0.01718115620315075, 0.022980472072958946, -0.0065750437788665295, 0.035852789878845215, -0.021747440099716187, 0.010595949366688728, -0.004271576646715403, 0.008522829040884972, 0.014362795278429985, -0.008875123225152493, 0.01711340621113777, -0.026760868728160858, -0.007953736931085587, 0.0023576663807034492, 0.031110357493162155, -0.008983521722257137, -0.006923951208591461, -0.010250428691506386, 0.011056642979383469, 0.004586609546095133, 0.01034527737647295, 0.01448474358767271, -0.006944275926798582, -0.01865808479487896, 0.02401025779545307, -0.0008798905764706433, 0.026395024731755257, -0.0035940862726420164, 0.003119843080639839, 0.00016556170885451138, 0.015419680625200272, 0.040351323783397675, 0.011354737915098667, 0.021476443856954575, -0.026300175115466118, 0.019376223906874657, -0.026706669479608536, 0.017939943820238113, 0.019728519022464752, 0.02620532736182213, 0.01516223419457674, 0.01117859035730362, 0.008055360056459904, 0.007052674423903227, 0.00712719839066267, 0.021137699484825134, 0.00978973601013422, -0.00635824678465724, 0.0008515206864103675, -0.0028793339151889086, -0.010291078127920628, -0.030432866886258125, -0.004840668756514788, 0.01739795133471489, -0.02872559055685997, -0.008875123225152493, -0.0007812310359440744, 0.01800769381225109, 0.015514529310166836, 0.013197512365877628, 0.01345495879650116, 0.03232983872294426, -0.0009671174921095371, 0.021476443856954575, 0.008875123225152493, -0.02964697778224945, 0.001683563576079905, -0.00819085817784071, -0.011375063098967075, -0.010568849742412567, -0.003089356003329158, -0.00030825810972601175, -0.03737036883831024, 0.0023813785519450903, 0.02207263559103012, 0.001883423188701272, 0.03422681242227554, -0.0013261873973533511, 0.028102299198508263, -0.025880131870508194, -0.007743714842945337, 0.004945679567754269, 0.0206905547529459, 0.011720582842826843, 0.022831425070762634, -0.02693701721727848, -0.008102784864604473, 9.072019020095468e-05, 0.025595584884285927, 0.011402162723243237, 0.015406130813062191, -0.0104062519967556, 0.01754700019955635, -0.005186188500374556, 0.008360231295228004, 0.017872195690870285, -0.026218876242637634, 0.0272215623408556, 0.016273317858576775, 0.011219239793717861, -0.00290982099249959, -0.008617677725851536, -0.017533449456095695, 0.03457910567522049, -0.02635437436401844, -0.030487066134810448, 0.0015802462585270405, 0.0035263372119516134, -0.013915651477873325, 0.010324953123927116, 0.0016717074904590845, -0.007174622733145952, -0.013495608232915401, 0.02173389121890068, -0.006175324320793152, -0.006629243027418852, 0.005545258522033691, 0.009505189955234528, 0.005938203074038029, -0.0022035373840481043, -0.01902392879128456, 0.012655519880354404, 0.013969850726425648, 0.07994385808706284, 0.0013075564056634903, 0.015582278370857239, 0.023603763431310654, 0.03956543654203415, -0.019132327288389206, -0.01425439678132534, -0.012919740751385689, 0.021937137469649315, 0.004457886330783367, -0.0018461612053215504, -0.014755739830434322, -0.011476686224341393, -0.01143603678792715, -0.012818117626011372, -0.02395605854690075, 0.012804567813873291, -0.0030351567547768354, -0.021571293473243713, -0.004366425331681967, 0.018847782164812088, 8.172227535396814e-05, -0.006846040021628141, 0.010609499178826809, 0.018834231421351433, 0.00846862979233265, 0.014403444714844227, 0.043521981686353683, 0.013095888309180737, -0.0075675672851502895, -0.01102276798337698, -0.00010014154395321384, -0.015229983255267143, -0.011029543355107307, -0.017682498320937157, 0.006033051759004593, 0.024741947650909424, 0.011571534909307957, 0.02546008676290512, 0.005931428167968988, 0.01625976897776127, 0.009105470031499863, -0.007018799893558025, 0.00880737416446209, 0.004352875519543886, -0.015555178746581078, -0.016205569729208946, 0.022641727700829506, 0.015338381752371788, -0.007100098766386509, 0.007926637306809425, 0.0062362984754145145, -0.010230104438960552, -0.018373537808656693, -0.000740158197004348, 0.006104188039898872, -0.016517214477062225, 0.0005144692258909345, -0.017289552837610245, -0.02417285554111004, -0.0036211858969181776, -0.033359624445438385, -0.00842120498418808, 0.012980715371668339, -0.030839361250400543, -0.02700476534664631, -0.04433497041463852, -0.010223329067230225, -0.02463354915380478, 0.0015209658304229379, -0.032438237220048904, -0.0023932347539812326, -0.0156093779951334, -0.01056207437068224, 0.01249969657510519, 0.004247864708304405, 0.021571293473243713, -0.0012652132427319884, 0.005809479858726263, 0.006920563988387585, 0.017709597945213318, 0.007161072921007872, 0.016246218234300613, -0.014606691896915436, 0.003878632327541709, 0.01918652653694153, -0.00758111709728837, -0.016476565971970558, 0.0036008611787110567, -0.03208594396710396, -0.003468750510364771, 0.00551138399168849, 0.009938783012330532, 0.004698395729064941, 0.001163589651696384, -0.0006152459536679089, 0.007838563062250614, -0.0009510270901955664, 0.005582520272582769, 0.0067952279932796955, -0.0053724986501038074, 0.005663819145411253, -0.037234868854284286, -0.013536257669329643, 0.014159548096358776, -0.001548065454699099, -0.005277649965137243, -0.010487550869584084, 0.011131166480481625, -0.004281739238649607, 0.028454594314098358, -0.014904787763953209, 0.016056520864367485, -0.0005682450137101114, -0.018034793436527252, 0.019416874274611473, 0.003495850134640932, 0.0185090359300375, 0.008007936179637909, -0.01563647761940956, -0.029917974025011063, -0.03829175606369972, 0.02848169393837452, -0.008563478477299213, -0.006117737852036953, 0.0024779208470135927, 0.013312685303390026, -0.015514529310166836, -0.020920902490615845, -0.016110720112919807, -0.0049660042859613895, 0.013746279291808605, -0.018088992685079575, -0.029077885672450066, -0.033847417682409286, -0.007167847827076912, -0.004722107667475939, 0.02894238755106926, -0.011896730400621891, -0.036503180861473083, -0.020026614889502525, 0.007906312122941017, -0.007201722357422113, -0.0031706548761576414, 0.01491833757609129, -0.021774539723992348, -0.03241113945841789, 0.007012024987488985, -0.024525150656700134, 0.03135425224900246, -0.005809479858726263, -0.006097413133829832, -0.010595949366688728, -0.002557526109740138, -0.00264051859267056, -0.02672022022306919, 0.0036245733499526978, 0.02546008676290512, 0.01194415520876646, 0.047830820083618164, 0.03783106058835983, 6.314421625575051e-05, -0.014566042460501194, 0.013800478540360928, 0.0073846448212862015, 0.007669190876185894, -0.02180163934826851, 0.000274595309747383, -0.02875269018113613, 0.0038447577971965075, 0.019349124282598495, 0.001639526686631143, 0.018549686297774315, 0.007262696512043476, -0.02777710370719433, 0.027858402580022812, 0.003695709863677621, -0.04948389530181885, -0.0007371942047029734, -0.004369812551885843, 0.012465822510421276, -0.0009103776537813246, -0.0003685971023514867, 0.002554138656705618, -0.007730165030807257, -0.01188318058848381, 0.010263978503644466, -0.002488083206117153, 0.009369691833853722, 0.004959229379892349, 0.031137457117438316, -0.015487429685890675, -0.0044748238287866116, 0.003207916859537363, -0.015311282128095627, 0.01773669756948948, 0.0023915409110486507, -0.012411623261868954, -0.016178470104932785, 0.01517578400671482, -0.0014007112476974726, 0.010013307444751263, -0.005020203534513712, -0.01017590519040823, -0.0016073458828032017, -0.001907135359942913, -0.01539258100092411, -0.030432866886258125, 0.001702194451354444, -0.012120302766561508, -0.030866460874676704, -0.012127077206969261, -0.03531079739332199, -0.019294925034046173, 0.0033603522460907698, -0.004691620822995901, -0.006405671127140522, 0.015907473862171173, -0.007560792379081249, -0.013028139248490334, 0.020148562267422676, 0.0020917514339089394, 0.015650026500225067, -0.024457402527332306, 0.013685304671525955, 0.024498051032423973, 0.006215973757207394, -0.03666577860713005, 0.0055249338038265705, 0.0019850467797368765, -0.004454499110579491, 0.0021595004945993423, 0.03886084631085396, -0.0058806161396205425, -0.01628686860203743, 0.027262210845947266, 0.0014777758624404669, -0.025839481502771378, -0.04506665840744972, 0.021760990843176842, 0.01424084696918726, 0.02983667515218258, -0.020677005872130394, -0.027533207088708878, -0.03506689891219139, 0.010941469110548496, 0.009261293336749077, 0.003077500034123659, -0.0021798252128064632, 0.011876406148076057, -0.032953131943941116, 0.04796631634235382, -0.010067506693303585, 0.015257082879543304, -0.006178712006658316, -0.009661012329161167, 0.002716736402362585, 0.0007888528052717447, -0.02620532736182213, -0.007228821981698275, 0.006429383531212807, 0.01234387420117855, -0.02804809994995594, 0.008529603481292725, -0.002018921310082078, -0.003970093559473753, -0.001369377365335822, 0.018956180661916733, 0.014403444714844227, 0.03276343271136284, -0.0009171525598503649, -0.013725954107940197, 0.0035026250407099724, -0.008400880731642246, 0.0065750437788665295, -0.03932154178619385, -0.01865808479487896, -0.013651430606842041, -0.022519778460264206, 0.00039612012915313244, -0.0015777056105434895, -0.010203004814684391, -0.009322267025709152, -0.00156839017290622, -0.0011339494958519936, 0.010263978503644466, -0.022465579211711884, -0.02192358858883381, 0.002125625964254141, -0.010474001057446003, -0.018210940062999725, -0.0018190615810453892, -0.010595949366688728, -0.02090735174715519, -0.00802148599177599, -0.0021459506824612617, 0.040378425270318985, 0.03474170342087746, -0.038129158318042755, -0.011219239793717861, -0.02139514498412609, 0.009891359135508537, -0.04124561324715614, -0.002261124085634947, 0.009864259511232376, -0.0024304967373609543, 0.009518739767372608, 0.0019376224372535944, -0.02247912995517254, -0.01594812236726284, -0.0011322557693347335, 0.013387209735810757, 0.0048508308827877045, -0.010833070613443851, 0.002508407924324274, 0.0026760869659483433, 0.031516849994659424, 0.004017517901957035, -0.00650390749797225, 0.01619201898574829, 0.008217957802116871, -0.008123109117150307, 0.020067263394594193, -0.030432866886258125, 0.006202423945069313, 0.0191187784075737, 0.019200077280402184, -0.011801881715655327, -0.006615693215280771, -0.021625492721796036, -0.02422705478966236, 0.009024171158671379, -0.002845459384843707, -0.02321081981062889, -0.006212586537003517, -0.014145998284220695, -0.008082459680736065, 0.01109729241579771, 0.012872316874563694, -0.01776379719376564, 0.032709233462810516, 0.007946961559355259, -0.007391419727355242, -0.008969971910119057, -0.0017733309650793672, -0.03167944774031639, -0.03124585561454296, -0.017845096066594124, -0.0020121464040130377, -0.007906312122941017, -0.010514650493860245, 0.02388831041753292, 0.002687942935153842, 0.004105591680854559, -0.001703041372820735, 0.017696047201752663, -0.01033172756433487, -0.003092743456363678, -0.004800019320100546, 0.01773669756948948, 0.002242492977529764, -0.0005347939440980554, 0.009017396718263626, 0.03663867712020874, -0.032004643231630325, 0.01125311478972435, 0.016083620488643646, -0.031950443983078, -0.012391298078000546, -0.006022889167070389, 0.01594812236726284, -0.023292118683457375, -0.016232669353485107, -0.02512134239077568, 0.004000580403953791, 0.0008400880615226924, 0.01957947202026844, 0.00926806777715683, -0.005325074307620525, 0.011117616668343544, -0.023292118683457375, 0.029240483418107033, 0.013847902417182922, 0.004637421574443579, 0.009064820595085621, -0.004942291881889105, -0.018427737057209015, 0.0010890656849369407, -0.011978029273450375, 0.01570422574877739, -0.0025914006400853395, 0.006442933343350887, 0.01186963077634573, -0.004105591680854559, -0.034958500415086746, -0.012662294320762157, -0.0073168957605957985, -0.012005128897726536, 0.004403687082231045, 0.015026736073195934, -0.016706911846995354, 0.021882938221096992, 0.0029995886143296957, -0.024701297283172607, -0.005447022616863251, 0.008224733173847198, -0.020419558510184288, -0.016883060336112976, 0.006205811630934477, 0.003956543747335672, -0.011354737915098667, 0.010643373243510723, 0.02608337812125683, 0.005413148086518049, -0.014891237951815128, -0.00573495589196682, -0.0052945869974792, -0.0014862444950267673, 0.014742190018296242, -0.021991336718201637, -0.007154298014938831, -0.023143069818615913, -0.012580995447933674, 0.011835756711661816, 0.004241089802235365, -0.011117616668343544, -0.013414309360086918, -0.020582156255841255, -0.025419438257813454, 0.01684240996837616, -0.019742069765925407, -0.020406009629368782, 0.026706669479608536, 0.008583802729845047, -0.009891359135508537, 0.019525272771716118, 0.1967432051897049, 0.024186406284570694, -0.011950929649174213, 0.04116431251168251, 0.02712671458721161, -0.00519635109230876, 0.013509158045053482, -0.002132400870323181, 0.008617677725851536, 0.021449344232678413, 0.028888188302516937, 0.024863895028829575, -0.02197778783738613, 0.0032400975469499826, 0.01536548137664795, -0.012899416498839855, -0.035419195890426636, -0.0002286529925186187, 0.0047492072917521, -0.048318613320589066, 0.0032180792186409235, -0.01737085171043873, -0.0031418614089488983, 0.004319000989198685, 0.03731616958975792, -0.009979432448744774, 0.0007769967196509242, -0.01322461199015379, 0.01829223893582821, 0.013631105422973633, -0.021313846111297607, -0.02022986114025116, -0.004285126458853483, -0.0053894356824457645, -0.009383241645991802, -0.00475598219782114, -0.008231507614254951, -0.0067105419002473354, 0.0258936807513237, -0.007682740688323975, 0.013129763305187225, -0.0028810277581214905, 0.014145998284220695, -0.030920660123229027, -0.014891237951815128, 0.04224829748272896, -0.0168153103441, -0.00037770086782984436, 0.006561493966728449, 0.012851991690695286, -0.023237919434905052, -0.00558929517865181, 0.004586609546095133, 0.0037566840182989836, -0.004701782949268818, -0.011679933406412601, 0.01276391837745905, -6.420279532903805e-05, -0.014362795278429985, 0.011679933406412601, -0.009952332824468613, 0.015839723870158195, -0.028129398822784424, 0.022086186334490776, -0.032898932695388794, 0.009721986949443817, -0.009593263268470764, -0.0027539983857423067, 0.013136537745594978, -0.0006575890583917499, 0.008448304608464241, 0.004613709170371294, -0.02582593262195587, 0.010731447488069534, -0.019593020901083946, -0.021991336718201637, 0.0014396669575944543, 0.036340583115816116, 0.007106873672455549, 0.03503980115056038, 0.0036652227863669395, 0.00011930181790376082, 0.0036584478802978992, 0.00183938629925251, -0.01604297198355198, -0.022736575454473495, -0.0034162451047450304, 0.010257204063236713, 0.0077708144672214985, 0.002450821455568075, -0.011293764226138592, 0.016056520864367485, -0.0033722082152962685, -0.017411502078175545, 0.0160971712321043, -0.011212465353310108, 0.008800599724054337, 0.020094363018870354, -0.001144111854955554, 0.015541628934442997, -0.010670472867786884, 0.03685547411441803, 0.0037532965652644634, 0.037424568086862564, -0.01616491936147213, -0.007662415970116854, -0.027655156329274178, 0.02349536493420601, -0.020026614889502525, 0.011381837539374828, 0.010243654251098633, -0.0046475837007164955, -0.011280214414000511, 0.008062135428190231, 0.009606813080608845, 0.01846838742494583, -0.002664230763912201, -0.02872559055685997, 0.021571293473243713, -0.005040528252720833, 0.020365359261631966, -0.03997192904353142, 0.005115052219480276, 0.0017513125203549862, -0.00781823880970478, -0.020975101739168167, -0.015880374237895012, 0.02318372018635273, -0.018725832924246788, -0.040161628276109695, -0.0062362984754145145, 0.03327832743525505, 0.008007936179637909, -0.02059570699930191, -0.01800769381225109, -0.006964600645005703, -0.005951752886176109, -0.021544193848967552, -0.018048342317342758, -0.007913087494671345, 0.00023606304603163153, -0.010494325309991837, 0.006171937100589275, -0.005345399025827646, 0.021639041602611542, -0.007547242566943169, 0.011788331903517246, -0.013156862929463387, -0.03352222219109535, -0.015297732315957546, 0.0032180792186409235, 0.00597207760438323, -0.013712404295802116, 0.008976747281849384, 0.032031744718551636, -0.010379152372479439, -0.042654793709516525, 0.002979263896122575, -0.0004045887617394328, -0.02016211301088333, -0.052573252469301224, -0.002174743916839361, 0.04709912836551666, -0.006100800819694996, -0.009220643900334835, 0.005897553637623787, -0.1730039417743683, 0.031137457117438316, -0.005430085118860006, -0.02780420333147049, 0.022086186334490776, 0.014403444714844227, 0.029240483418107033, 0.0045120855793356895, -0.03756006434559822, 0.007100098766386509, 0.007608216721564531, -0.00051658641314134, -0.034091316163539886, -0.029809575527906418, -0.00840765517205, -0.010609499178826809, -0.008001160807907581, -0.01194415520876646, -0.01401050016283989, -0.005345399025827646, 0.020988650619983673, -0.010975344106554985, 0.0375058650970459, -0.019254276528954506, 0.008610902354121208, 0.01316363736987114, -0.005636719521135092, 0.0006423455197364092, -0.012384523637592793, -0.009356142021715641, 0.0016844103811308742, -0.024606449529528618, 0.0041191414929926395, -0.011320863850414753, 0.0009882890153676271, -0.018549686297774315, -0.007012024987488985, -0.015094485133886337, -0.011910280212759972, 0.032898932695388794, 0.029972173273563385, 0.019443973898887634, 0.011015993542969227, 0.010047181509435177, 0.008380555547773838, 0.011686708778142929, 0.0079876109957695, -0.003299378091469407, 0.010324953123927116, -0.039484139531850815, 0.02100220136344433, -0.0078046889975667, 0.020053714513778687, 0.0052031259983778, 0.015040285885334015, -0.0008790437132120132, -0.007825013250112534, 0.007655641064047813, -0.003365433309227228, -0.005914490669965744, -0.00597207760438323, -0.019742069765925407, 0.007059449329972267, 0.0007681046845391393, 0.0029165958985686302, -0.022953372448682785, -0.033386725932359695, 0.035202398896217346, -0.028427494689822197, 0.006937501020729542, 0.004420624580234289, -0.017154056578874588, -0.005162476561963558, 0.0033942267764359713, -0.0014455950586125255, 0.03035156801342964, -0.03956543654203415, -0.001348205842077732, 0.00413269130513072, 0.0068968515843153, -0.01563647761940956, 0.030405767261981964, -0.037668462842702866, 0.0016844103811308742, -0.03522949665784836, 0.0045628976076841354, 0.010541750118136406, 0.0016530764987692237, 0.014159548096358776, -0.004772919695824385, -0.0010136949131265283, 0.00033281714422628284, 0.008448304608464241, 9.46369327721186e-05, 0.00024050907813943923, 0.025202641263604164, -0.01625976897776127, 0.02964697778224945, -0.010352052748203278, 0.002132400870323181, 0.016693362966179848, -0.018034793436527252, -0.03143555298447609, 0.022614628076553345, 0.03075806237757206, 0.005721406079828739, 0.01684240996837616, 0.021083500236272812, 0.009362916462123394, -0.019999515265226364, -0.0014735414879396558, 0.01582617498934269, 0.011612184345722198, 0.02577173337340355, -0.004173340741544962, 0.024470951408147812, -0.008719300851225853, -0.01402404997497797, 0.026273075491189957, 0.00033345227711834013, 0.010426576249301434, -0.003426407463848591, -0.00820440798997879, 0.0062193614430725574, -0.015717776492238045, -0.026855718344449997, -0.10904884338378906, -0.016124270856380463, -0.01594812236726284, 0.018956180661916733, -0.02161194197833538, 0.015406130813062191, 0.02146289497613907, 0.013983400538563728, -0.005087952595204115, 0.012194826267659664, 0.016151370480656624, -0.0022035373840481043, -0.006615693215280771, -0.007526917848736048, 0.021747440099716187, -0.002755691995844245, -0.0015514529077336192, -0.004325775895267725, -0.006910401396453381, 0.0011754457373172045, 0.0013541338266804814, 0.0029453893657773733, -0.005762055516242981, -0.01720825582742691, 0.007398194633424282, -0.009552613832056522, -0.0418689027428627, 0.006656342651695013, 0.0027489170897752047, 0.0009925233898684382, 0.032438237220048904, -0.011646059341728687, 0.019322024658322334, -0.017926394939422607, -0.010833070613443851, 0.006243073381483555, 0.019931765273213387, -0.008793824352324009, 0.02848169393837452, -0.010196229442954063, -0.014227297157049179, 0.0007943574455566704, 0.0003503895422909409, -0.01737085171043873, 0.036340583115816116, -0.010413026437163353, -0.021354496479034424, 0.01943042315542698, 0.02848169393837452, -0.017777346074581146, 0.003858307609334588, 0.001188995549455285, -0.03506689891219139, -0.015988772734999657, 0.009823610074818134, -0.009362916462123394, 0.016476565971970558, 0.023224368691444397, -0.011104066856205463, -0.006226136349141598, -0.01256067119538784, -0.009125795215368271, -0.021449344232678413, 0.0241999551653862, 0.01856323517858982, -0.0018055117689073086, -0.037451665848493576, -0.01185608096420765, -0.006524232216179371, -0.0208125039935112, 0.004620484076440334, 0.0003122806956525892, -0.010223329067230225, 0.0033518834970891476, -0.016666263341903687, 0.017967043444514275, -0.01841418817639351, -0.022452030330896378, -0.01424084696918726, 0.004576447419822216, -0.01063659880310297, -0.009633912704885006, -0.005887391045689583, -0.020121462643146515, 0.019200077280402184, 0.023197269067168236, -0.02327856793999672, 0.011327638290822506, 0.009139345027506351, -0.053494639694690704, 0.00034276777296327055, 0.021679691970348358, 0.01296039018779993, -0.01628686860203743, -0.025040043517947197, 0.017899295315146446, -0.0006199036724865437, -0.0019342349842190742, 0.015866823494434357, -0.015961673110723495, -0.03029736876487732, -0.018156740814447403, -0.058047372847795486, 0.025514286011457443, 0.027329960837960243, -0.02185583859682083, 0.004505310673266649, -0.007940187118947506, -0.003519562305882573, -0.010717897675931454, 0.020202761515975, 0.007093323860317469, -0.012045778334140778, 0.021042849868535995, -0.010684022679924965, -0.016015872359275818, -0.0027675481978803873, -0.03818335756659508, 0.025568485260009766, 0.006155000068247318, 0.02598853036761284, 0.01402404997497797, -8.262206392828375e-05, 0.0049660042859613895, -0.0007274552481248975, 0.0277093555778265, -0.0003992958809249103, 0.036340583115816116, -0.04463306441903114, 0.030595464631915092, 0.0069984751753509045, -0.01559582818299532, -0.00033853345667012036, -0.02151709422469139, 0.00955938920378685, 0.033847417682409286, -0.009613588452339172, 0.0020595707464963198, -0.011212465353310108, 0.019511722028255463, -0.008123109117150307, -0.035635992884635925, -0.0073846448212862015, -0.019443973898887634, 0.018387088552117348, -0.010006532073020935, -0.006730866618454456, -0.022587528452277184, -0.03398291766643524, 0.008908998221158981, 0.03525659814476967, 0.03498560190200806, 0.040866218507289886, 0.0176689475774765, -0.011571534909307957, -0.021408695727586746, -0.001139877480454743, -0.00264390604570508, 0.029972173273563385, 0.02422705478966236, -0.0011474993079900742, 0.0007342301541939378, 0.017221804708242416, -0.015243533067405224, 0.013522707857191563, -0.008109559305012226, 0.02272302657365799, 0.01696435920894146, 0.003155411221086979, 0.009417115710675716, 0.006696992088109255, -0.012506471946835518, -0.02037891000509262, -0.0016877978341653943, 0.013563357293605804, 0.0020595707464963198, 0.025012943893671036, -0.018549686297774315, -0.012804567813873291, -0.00820440798997879, 0.001366836833767593, 0.020202761515975, 0.01017590519040823, 0.00628033559769392, -0.009566163644194603, 0.034524910151958466, 0.008997071534395218, 0.0289152879267931, -0.014755739830434322, 0.017506349831819534, 0.00159125542268157, -0.00972876138985157, -0.027479007840156555, -0.003875244874507189, -0.005220063030719757, 0.011734132654964924, 0.014078249223530293, 0.008678651414811611, -0.017994143068790436, 0.004617096856236458, 0.0067952279932796955, 0.00497955409809947, -0.00022293666552286595, 0.006368409376591444, -0.0065377820283174515, -0.008529603481292725, -0.02678796835243702, -0.0066902171820402145, -0.007764039561152458, -0.03663867712020874, -0.01810254156589508, 0.018387088552117348, 0.03466040641069412, -0.03658447787165642, 0.017912844195961952, 0.012553895823657513, -0.003953156061470509, 0.013543032109737396, 0.015026736073195934, -0.006297272630035877, -0.022777225822210312, 0.03390161693096161, 0.022885624319314957, 0.008848023600876331, 0.018739383667707443, -0.009613588452339172, -0.002188293728977442, -0.0018918918212875724, 0.00909869559109211, -0.001280456781387329, 0.014701540581882, -0.00843475479632616, -0.0024745333939790726, -0.02604272961616516, -0.02780420333147049, 0.00758111709728837, -0.006907014176249504, -0.008556703105568886, 0.04189600422978401, 0.03173364698886871, -0.04276319220662117, 0.05956495180726051, -0.0010577318025752902, 0.00183599884621799, -0.0030571753159165382, 0.008658326230943203, 0.010013307444751263, 0.024308353662490845, 0.01650366559624672, -0.018983280286192894, -0.01604297198355198, -0.0009061433374881744, -0.014430544339120388, 0.03100195899605751, -0.01536548137664795, -0.01536548137664795, 0.012526796199381351, -0.006131287664175034, -0.009667787700891495, 0.0011932299239560962, -0.009979432448744774, 0.0014879382215440273, 0.0053521739318966866, -0.0021239323541522026, 0.000448413920821622, -0.020080814138054848, -0.01640881597995758, 0.015555178746581078, -0.0289152879267931, 0.010514650493860245, -0.05945655331015587, 0.01868518441915512, 0.003793946001678705, -0.05886036157608032, -0.017262455075979233, 0.0037261969409883022, -0.011544435285031796, -0.018712284043431282, 0.0014964068541303277, -0.010758547112345695, 0.015040285885334015, -0.010609499178826809, 0.01868518441915512, -0.015487429685890675, -0.017221804708242416, 0.016205569729208946, 0.0013778459979221225, -0.024620000272989273, -0.007642091251909733, -0.008529603481292725], '@search.action': 'upload'}\n",
      "end: {'id': '99', 'contentVector': [-0.0009106227662414312, 0.0021059191785752773, -0.004837787710130215, -0.021282270550727844, -0.005417123436927795, 0.008450312539935112, -0.014223694801330566, -0.04797167330980301, -0.018924972042441368, -0.028287572786211967, 0.0032446137629449368, 0.021388813853263855, -0.004308394156396389, 0.00582665391266346, -0.02362624928355217, 0.03457370027899742, 0.023706156760454178, 0.021601902320981026, -0.01655435562133789, 0.01083424687385559, -0.028074482455849648, -0.016008315607905388, -0.011673284694552422, 0.0015374042559415102, -0.007824364118278027, -0.015488910488784313, 0.023053571581840515, -0.0202834140509367, -0.017926117405295372, 0.0005214855191297829, 0.02248089574277401, -0.004751219879835844, -0.02260075882077217, 0.01426364853978157, -0.002495472552254796, 0.012432415038347244, -0.00699864374473691, -0.007737796287983656, 0.03308207541704178, -0.02248089574277401, 0.011513467878103256, 0.01191300991922617, 0.02405242808163166, 0.003559253178536892, 0.00031276646768674254, 0.0067289527505636215, 0.004378314130008221, -0.019510967656970024, -0.01488959789276123, -0.009549053385853767, 0.031057730317115784, 0.02280052937567234, -0.013551131822168827, -0.0070252800360322, -0.006805531680583954, 0.00878992397338152, 0.023146798834204674, 0.03385452553629875, 0.028873566538095474, -0.016114860773086548, 0.007624592632055283, 0.020629683509469032, 0.005017581395804882, 0.002029340248554945, -0.006449273321777582, -0.004561437759548426, -0.012465709820389748, 0.001524086226709187, 0.002750180661678314, -0.004002078901976347, 0.04432252421975136, 0.0010571215534582734, -0.01675412803888321, -0.0025853696279227734, 0.027088945731520653, 0.010980745777487755, -0.019617510959506035, 0.00554031552746892, -0.008077407255768776, -0.010494636371731758, 0.023692838847637177, -0.028660478070378304, -0.005450418684631586, 0.019750691950321198, 0.035026513040065765, 0.0070785521529614925, -0.013850788585841656, 0.02425219863653183, 0.005889914929866791, -0.013651018030941486, 0.01426364853978157, 0.026090091094374657, 0.0038722276221960783, -0.0032446137629449368, -0.03302880376577377, -0.008157315663993359, -0.0033228574320673943, 0.04879739508032799, -0.026729358360171318, -0.022667348384857178, -0.003858909709379077, -0.0059265391901135445, 0.007038597948849201, -0.009928618557751179, -0.008883150294423103, -0.00040786576573736966, -0.03838266804814339, -0.01799270696938038, 0.00843033567070961, -0.004964309278875589, -0.017633119598031044, 0.03811630606651306, 0.0239458829164505, -0.04291081055998802, -0.021894900128245354, 0.009082920849323273, 0.022214533761143684, -0.008104043081402779, -0.020030371844768524, 0.004474870394915342, -0.0029799172189086676, 0.006236184388399124, 0.012432415038347244, -0.01146019622683525, 0.015901770442724228, 0.011779829859733582, -0.029379654675722122, -0.02988574095070362, 0.005583599209785461, -0.0020975954830646515, 0.014023923315107822, 0.028074482455849648, 0.02622327208518982, -0.010900837369263172, -0.019950462505221367, 0.03260262683033943, -0.02009696140885353, -0.006336070131510496, 0.009915300644934177, -0.003094785613939166, 0.006366035435348749, 0.026982402428984642, -0.007531366311013699, 2.3527716621174477e-05, -0.00759795680642128, 0.03478678688406944, -0.0029216506518423557, 0.025837048888206482, -0.008450312539935112, 0.02414565347135067, -0.02434542402625084, -0.002823430113494396, 0.023439796641469002, -0.009768801741302013, 0.028260936960577965, 0.015635410323739052, 0.003366141114383936, 0.03974111005663872, -0.010721043683588505, 0.043763164430856705, 0.00029403791995719075, -0.01707376167178154, 0.005889914929866791, -0.005753404460847378, 0.0028633843176066875, 0.025863684713840485, 0.018338976427912712, -0.010028503835201263, 0.005104148760437965, 0.004891059827059507, -0.0031597111374139786, 0.026090091094374657, -0.008650084026157856, 0.026676086708903313, 0.004042033106088638, -0.008283836767077446, 0.005247318185865879, 0.0002517946995794773, -0.02038995921611786, -0.016700854524970055, -0.010294864885509014, 0.011227129958570004, 0.030152101069688797, 0.008283836767077446, -0.0028250948525965214, -0.007231710013002157, 0.007411503698676825, -0.0023339909967035055, 0.016727490350604057, -0.009562371298670769, 0.023466432467103004, 0.03260262683033943, -0.0006309433956630528, -0.02371947653591633, -0.6482169032096863, -0.025557368993759155, 0.012558936141431332, 0.011513467878103256, 0.02780812233686447, 0.01883174479007721, 0.002365621505305171, -0.006009777542203665, -0.013218180276453495, 0.022241169586777687, 0.0011794812744483352, 0.008143997751176357, -0.0098820049315691, -0.00038289438816718757, 0.03185681253671646, -0.018924972042441368, 0.00033045452437363565, -0.03028528206050396, -0.00899635348469019, -0.01374424435198307, 0.008303814567625523, 0.007371549494564533, 0.0002580375294201076, -0.015475592575967312, 0.012272598221898079, -0.016048269346356392, -0.008923104032874107, -0.014143786393105984, 0.027195490896701813, 0.017713027074933052, -0.007684524171054363, 0.03795648738741875, 0.029486197978258133, 0.010428045876324177, 0.05351198837161064, -0.017846208065748215, -0.0065624769777059555, 0.01227925717830658, 0.03238953649997711, 0.032016631215810776, -0.02145540527999401, -0.01884506270289421, 0.031803540885448456, -0.009302669204771519, -0.019337831065058708, 0.029805831611156464, 0.01102735847234726, 0.03476015105843544, 0.020536458119750023, -0.022867118939757347, -0.005347203463315964, 0.013085000216960907, -0.012179371900856495, -0.01369097176939249, 0.01551554724574089, 0.007384867873042822, 0.031084366142749786, -0.040327105671167374, -0.004897718783468008, -0.006023095455020666, 0.00189948920160532, 0.0071251653134822845, -0.01643449440598488, -0.00900301244109869, -0.02041659504175186, 0.013278111815452576, -0.025996865704655647, 0.004874411970376968, 0.024824874475598335, -0.007451457902789116, 0.016580991446971893, 0.030871277675032616, -0.014636554755270481, 0.02121567912399769, 0.023865973576903343, -0.010554566979408264, 0.004618039354681969, 0.014530010521411896, 0.0007961706141941249, 0.00525730662047863, 0.008130678907036781, -0.006705646403133869, -0.0007766097551211715, 0.008869832381606102, 0.0005585263716056943, 0.005700132343918085, -0.03092454932630062, -0.0024089051876217127, -0.016687536612153053, -0.03601204976439476, 0.0182057972997427, 0.014356874860823154, -0.0026319827884435654, -0.025557368993759155, -0.02301361784338951, 0.020123597234487534, -0.0002805117692332715, 0.0182324331253767, 0.02694244682788849, -0.04972966015338898, -0.02756839618086815, 0.017300168052315712, -0.0023989167530089617, -0.005224011372774839, 0.01551554724574089, 0.02173508331179619, -0.017233576625585556, 0.014117149636149406, 0.015275822021067142, -0.02186826430261135, 0.05226008966565132, 0.014037241227924824, 0.0008773275767453015, -0.008283836767077446, -0.0008253038977272809, -0.012272598221898079, -0.0037656831555068493, 0.004704606719315052, -0.004032044671475887, -0.03486669808626175, 0.004278428852558136, -0.008976376615464687, 0.01014170702546835, -0.0067755659110844135, -0.02154863066971302, 0.026209954172372818, -0.020802820101380348, 0.009462486021220684, 0.01736675761640072, -0.006326081231236458, 0.0029799172189086676, -0.019284559413790703, 0.011839760467410088, -0.03175026923418045, 0.007604615762829781, 0.01937778666615486, 0.017846208065748215, 0.005693473387509584, -0.0018245750106871128, -0.013584427535533905, -0.009835392236709595, 0.002297366503626108, 0.0017779618501663208, -0.010321501642465591, -0.017100397497415543, 0.005653519183397293, -0.013198203407227993, 0.01674080826342106, 0.013890743255615234, 0.008257200941443443, 0.009216101840138435, -0.002307354938238859, -0.008516903035342693, -0.002903338521718979, 0.01769970916211605, -0.001984391827136278, -0.0025986875407397747, -0.017206940799951553, -0.018964925780892372, -0.004198520444333553, 0.0014033912448212504, 0.016887307167053223, -0.019018199294805527, 0.02489146590232849, 0.0015548842493444681, -0.017433349043130875, 0.002065964974462986, 0.01757984794676304, -0.014703145250678062, -0.02945956215262413, -0.0036391615867614746, -0.008816559799015522, -0.0060630496591329575, 0.014849644154310226, -0.001361772301606834, 0.0033644763752818108, -0.03281571343541145, -0.025677232071757317, -0.01863197423517704, 0.01592840626835823, -0.021402131766080856, 0.013664335943758488, -0.002710226457566023, -0.004927684552967548, 0.02081613801419735, 0.019617510959506035, 0.009182806126773357, 0.03611859679222107, -0.024824874475598335, 0.01634126715362072, -0.0038788868114352226, 0.00497429771348834, -0.027328671887516975, 0.02738194353878498, -0.008776605129241943, -0.03257599100470543, 0.02122899703681469, 0.0067755659110844135, 0.02539755217730999, -0.022347714751958847, 0.016367902979254723, -0.024465287104249, 0.025357598438858986, 0.0035525942221283913, 0.014330239035189152, -0.025650596246123314, 0.0011420241789892316, 0.0003385702148079872, 0.017646437510848045, -0.0031264161225408316, -0.024318788200616837, 0.014343556948006153, -0.015475592575967312, -0.007711160462349653, -0.0017629789654165506, 0.028553932905197144, -0.010854223743081093, 0.005603576544672251, -0.012012895196676254, -0.011240447871387005, -0.009029649198055267, 0.021521994844079018, 0.0059898002073168755, -0.003918841015547514, -0.029859105125069618, 0.03286898881196976, -0.0008373734308406711, 0.0010063464287668467, 0.010101753287017345, -0.01104067638516426, 0.01146019622683525, -0.008889809250831604, 0.02748848870396614, 0.0029416277538985014, 0.0066457148641347885, -0.004091975744813681, 0.030418463051319122, -0.010914155282080173, 0.01614149659872055, 0.002139214426279068, 0.005027569830417633, 0.01957755722105503, 0.0014458425575867295, 0.002818435663357377, 0.015435638837516308, 0.014343556948006153, 0.02258744090795517, 0.01227925717830658, -0.0011769840493798256, 0.002651959890499711, -0.01259889081120491, -0.0009597331518307328, -0.018338976427912712, -0.004927684552967548, 0.01861865632236004, -0.007930908352136612, 0.0071518016047775745, 0.011773170903325081, 0.025011328980326653, 0.015249185264110565, 0.007351572625339031, 0.012439073994755745, 0.017300168052315712, 0.0019627499859780073, 0.023426478728652, 0.011193834245204926, -0.011280401609838009, -0.010028503835201263, -0.007378208450973034, -0.017739664763212204, -0.022414306178689003, -0.005650189705193043, 0.010328160598874092, -0.05780040845274925, -0.013930696994066238, 0.04208508878946304, -0.007444798946380615, 0.010374773293733597, 0.009549053385853767, 0.024918101727962494, -0.034520428627729416, -0.0070319389924407005, 0.014170422218739986, 0.021615222096443176, -0.0010496301110833883, 0.0017962742131203413, -0.019750691950321198, 0.0024422004353255033, 0.0022507531102746725, 0.034094247967004776, 0.0070319389924407005, 0.02756839618086815, -0.018885018303990364, 0.013318066485226154, 0.0011927993036806583, 0.0192712415009737, 0.04951656982302666, -0.0061829122714698315, 0.0117065804079175, -0.005243988707661629, 0.010368114337325096, -0.015049414709210396, -0.009269374422729015, -0.03204326704144478, 0.03915511444211006, -0.02104254439473152, -0.011799806728959084, -0.007265005260705948, 0.007071893196552992, -0.0004365828644949943, -0.026076773181557655, 0.0024155641440302134, -0.0009106227662414312, -0.0014058883534744382, 0.028767023235559464, -0.006236184388399124, 0.001015502493828535, 0.005263965576887131, 0.030871277675032616, -0.017193622887134552, 0.003019871423020959, -0.02643636055290699, 0.004897718783468008, 0.02110913395881653, 0.07133156061172485, 0.004621368832886219, 0.012698776088654995, 0.03518633171916008, 0.04445570334792137, -0.00437498465180397, -0.026170000433921814, -0.01893828995525837, 0.03071146085858345, 0.01228591613471508, -0.01852542906999588, -0.0064958869479596615, 0.016620947048068047, -0.009742164984345436, -0.005663507618010044, -0.00010977000056300312, -0.004598062485456467, -0.030125465244054794, -0.0229070745408535, 0.00437498465180397, 0.010308182798326015, 0.032096538692712784, 0.016061587259173393, 0.022121308371424675, 0.003046507714316249, 0.012831957079470158, 0.007491412106901407, -0.0012502335011959076, 0.004181872587651014, -0.002620329614728689, -0.00904962606728077, 0.004984286148101091, 0.0015482251765206456, 0.006009777542203665, -0.0016647583106532693, 0.012898546643555164, 0.01254561822861433, 0.023439796641469002, 0.04405616223812103, -0.027728212997317314, 0.017406713217496872, 0.029939012601971626, -0.00167141726706177, 0.00405535101890564, 0.001588179380632937, -0.024172289296984673, -0.013045045547187328, 0.028394116088747978, -0.007065234240144491, -0.02684922143816948, 0.018179159611463547, 0.009795437566936016, -0.01632794924080372, -0.0296460147947073, 0.014077195897698402, 0.003689104225486517, -0.012139417231082916, 0.0033128689974546432, -0.01843220368027687, -0.019510967656970024, 0.014689827337861061, -0.019337831065058708, -0.002077618381008506, 0.009189466014504433, -0.031696997582912445, -0.030018921941518784, -0.05196709558367729, -0.006079697050154209, -0.03374797850847244, -0.007478094194084406, -0.023080209270119667, -0.004717925097793341, -0.0028051177505403757, 0.009762142784893513, 0.020469866693019867, 0.014663190580904484, 0.012066167779266834, -0.0019993747118860483, 0.0021525323390960693, 0.020270096138119698, 0.010021844878792763, 0.00528727238997817, 0.02632981725037098, -0.012958478182554245, -0.0035192989744246006, 0.015675364062190056, -0.0013576103374361992, -0.006502545904368162, -0.013091659173369408, 0.005004263482987881, -0.009875345975160599, 0.008137338794767857, -0.002830089069902897, -0.0017246896168217063, 0.005993129685521126, -0.03590550646185875, -0.00248381937853992, 0.00869669672101736, -0.00900967139750719, -0.036811135709285736, -0.0070785521529614925, 0.014157104305922985, -0.04181872680783272, -0.016687536612153053, 0.017233576625585556, 0.005730098113417625, 0.016088223084807396, -0.02686253935098648, 0.016154814511537552, -0.0009822073625400662, 0.019843919202685356, -0.002230776008218527, -0.013970651663839817, -0.012505664490163326, 0.005337215028703213, -0.0024555183481425047, -0.01655435562133789, 0.0063227517530322075, 0.007804386783391237, -0.0035059808287769556, -0.011300379410386086, -0.031270820647478104, 0.01811257004737854, 0.01114056259393692, -0.019111424684524536, -0.0001207990208058618, 0.010328160598874092, 0.0008565181051380932, -0.007085211109369993, -0.017300168052315712, 0.0012094469275325537, 9.624383528716862e-05, -0.008623448200523853, -0.032309629023075104, -0.043043989688158035, -0.0061362991109490395, -0.008909786120057106, 0.028793659061193466, -0.004175213631242514, -0.033588163554668427, -0.0015349071472883224, -0.005606906022876501, -0.005333885550498962, -0.007691183127462864, 0.00044116092612966895, -0.020989272743463516, -0.03278907760977745, 0.009535735473036766, -0.008936421945691109, 0.03353489190340042, -0.0036125255282968283, -0.015169276855885983, -0.026809267699718475, 0.0013010086258873343, -0.00994859542697668, -0.021482041105628014, 0.01046134065836668, 0.02622327208518982, 0.029805831611156464, 0.05902566760778427, 0.03217644616961479, -0.009289351291954517, 0.009782119654119015, 0.022254489362239838, 0.0011328679975122213, 0.018472157418727875, -0.0023689509835094213, 0.007138483226299286, -0.025117872282862663, -0.013344702310860157, 0.02477160282433033, 0.008403699845075607, 0.010621157474815845, 0.010807611048221588, -0.012578913010656834, 0.0069387126713991165, -0.0031497227028012276, -0.02529100701212883, -0.0049443319439888, -0.019710738211870193, 0.0073648905381560326, -0.001743001863360405, 0.009915300644934177, 0.015542183071374893, 0.0038755573332309723, 0.0009930282831192017, -0.02477160282433033, 0.002938298275694251, 0.009802096523344517, 0.005124126095324755, 0.013391315937042236, -0.007458116859197617, 0.0018845063168555498, -0.0072183916345238686, -0.0035326171200722456, 0.014703145250678062, -0.0192579235881567, -0.009455827064812183, -0.006762247998267412, 0.015608773566782475, 0.013318066485226154, 0.007777750492095947, -0.0032945566345006227, 0.013224839232861996, 0.006482568569481373, 0.0061462875455617905, -0.008630107156932354, -0.01988387294113636, -0.007677865214645863, 0.0018495464464649558, -0.010634475387632847, -0.02478492073714733, -0.03143063560128212, 0.012319210916757584, -0.015981679782271385, 0.0026952435728162527, 0.0013309742789715528, 0.011160539463162422, -0.00494100246578455, -0.02132222428917885, 0.015275822021067142, 0.001584017532877624, 0.004911036696285009, -0.04197854548692703, 0.039501383900642395, 0.04701277241110802, 0.007131824269890785, -0.04173881933093071, 0.004784515127539635, -0.005370510276407003, -0.022321078926324844, 0.004288417287170887, 0.034813426434993744, 0.002220787573605776, -0.013038386590778828, -0.01789948157966137, 0.007065234240144491, -0.020989272743463516, -0.0416322760283947, 0.009222760796546936, -0.010860882699489594, -0.0027218798641115427, -0.01736675761640072, -0.037317220121622086, -0.023546341806650162, 0.019830601289868355, -0.01451669167727232, 0.004421597812324762, -0.012605549767613411, 0.012718752957880497, -0.008643425069749355, 0.03678449988365173, -0.024518560618162155, 0.022134626284241676, 0.011893033050000668, -0.0033628116361796856, -0.015076050534844398, -0.019071470946073532, -0.03976774588227272, -0.010661112144589424, 0.005523668136447668, 0.004384973086416721, -0.016913944855332375, 0.03121754713356495, -0.0122326435521245, 0.009589008055627346, 0.011420241557061672, 0.02882029488682747, -0.00434168940410018, 0.02882029488682747, -0.022440942004323006, -0.0067922137677669525, -0.001288522849790752, -0.012978455051779747, -0.005277283489704132, -0.020643003284931183, -0.024012472480535507, -0.014636554755270481, -0.022427624091506004, -0.006752259563654661, 0.013178226538002491, 0.01426364853978157, -0.017926117405295372, 0.022760575637221336, -0.0016464459476992488, 0.0098953228443861, -0.008143997751176357, -0.0034793447703123093, -0.001874517765827477, -0.027754850685596466, -0.002160856267437339, -0.01716698706150055, -0.01285193394869566, -0.01305836346000433, 0.008516903035342693, 0.0098820049315691, 0.012072826735675335, 0.02093599922955036, -0.04024719446897507, 0.010501295328140259, -0.02820766344666481, -0.004265110474079847, -0.02924647368490696, 0.01103401742875576, 0.013717608526349068, -0.016008315607905388, 0.02288043685257435, -0.0022857130970805883, -0.024611786007881165, -0.014010605402290821, 0.007338254246860743, -0.00362917291931808, 0.004408279899507761, -0.023799384012818336, 0.01739339344203472, 0.013098318129777908, 0.03238953649997711, -0.012106122449040413, -0.009855369105935097, 0.012865251861512661, 0.0011511803604662418, -0.02019018866121769, 0.019391104578971863, -0.01196628250181675, 0.0058865854516625404, 0.01550222933292389, 0.02154863066971302, -0.020563093945384026, -0.013098318129777908, -0.029406290501356125, -0.021308906376361847, 0.01634126715362072, -0.003725728951394558, -0.018139205873012543, -0.029805831611156464, 0.0032046595588326454, -0.00843699462711811, 0.020869409665465355, 0.008703356608748436, -0.026782631874084473, 0.02249421365559101, -0.0037956489250063896, -0.005730098113417625, 0.012159394100308418, -0.011926327832043171, -0.015422320924699306, -0.02374611236155033, -0.022201215848326683, -0.012046190910041332, -0.010501295328140259, -0.01451669167727232, 0.05159418657422066, -0.0008019973174668849, 0.011060654185712337, -0.009762142784893513, 0.0072450279258191586, -0.026902493089437485, 0.003892204724252224, 0.0012510658707469702, 0.018552066758275032, 0.005330556072294712, 0.003972113132476807, 0.007791068870574236, 0.05476388707756996, -0.02652958780527115, -0.0038622391875833273, 0.016834035515785217, -0.028767023235559464, -0.013151590712368488, -0.00904962606728077, 0.01968410238623619, 0.0013742579612880945, -0.008456972427666187, -0.00042742668301798403, 0.0033777945209294558, 0.0020110278856009245, 0.00039558816934004426, 0.01967078447341919, -0.005040888208895922, 0.005923209711909294, -0.018192477524280548, -0.008024134673178196, -0.009382577612996101, -0.019071470946073532, 0.004218497313559055, -0.004937672987580299, -0.01570199988782406, 0.013324725441634655, -0.008590152487158775, -0.01227925717830658, -0.003559253178536892, 0.0029782524798065424, 0.0002320256899110973, 0.01654103770852089, -0.013850788585841656, 0.013930696994066238, -0.022254489362239838, -0.029939012601971626, 0.003394442144781351, 0.006832167971879244, -0.008976376615464687, 0.0019061481580138206, -0.0275950338691473, -0.031084366142749786, -0.006878781132400036, 0.005726768635213375, -0.02280052937567234, -0.01997709833085537, -0.0030881266575306654, -0.011566740460693836, -0.010814270004630089, 0.005580269731581211, 0.021601902320981026, -0.017846208065748215, -0.02072291076183319, -0.0035559237003326416, 0.016381220892071724, 0.007398185785859823, 0.041179459542036057, -0.0003610444546211511, -0.015888452529907227, -0.043043989688158035, -0.008456972427666187, 0.005350532941520214, -0.01082092896103859, -0.03289562463760376, -0.0037556947208940983, -0.01800602488219738, -0.024172289296984673, -0.0072450279258191586, -0.03374797850847244, -0.036891043186187744, 0.016700854524970055, 0.003367805853486061, -0.014077195897698402, 0.024332106113433838, 0.19103434681892395, 0.007731137331575155, 0.014902915805578232, 0.026476316154003143, 0.019550921395421028, -0.02197480946779251, 0.007185096852481365, 0.010388091206550598, -0.0015365718863904476, 0.012825298123061657, 0.011473514139652252, 0.01738007552921772, -0.024944737553596497, 0.0014416807098314166, -0.002210798906162381, 0.004298405721783638, -0.033348437398672104, 0.014543328434228897, -0.023706156760454178, -0.04722586274147034, 0.010794292204082012, 0.0060464018024504185, -0.005207363981753588, -0.009901981800794601, 0.04882403090596199, 0.002703567501157522, -4.0110269765136763e-05, 0.002831753809005022, 0.0028800317086279392, 0.005114137195050716, -0.014143786393105984, -0.002387263346463442, 0.002260741777718067, 0.007424822077155113, -0.01967078447341919, -0.015688681975007057, -0.01082758791744709, -0.01134699210524559, 0.01462323684245348, 0.030871277675032616, -0.021588584408164024, -0.02549077942967415, 0.018472157418727875, -0.005190716125071049, -0.023999154567718506, 0.020376641303300858, -0.010061798617243767, -0.0036990928929299116, 0.0023090196773409843, 0.020749546587467194, -0.0010454681469127536, 0.00999520905315876, 0.01612817868590355, 0.006575795356184244, 0.02132222428917885, -0.013617722317576408, 0.018498793244361877, 0.011580058373510838, 0.004251792561262846, 0.002234105486422777, -0.012652162462472916, 0.016101542860269547, -0.03529287502169609, 0.03657140955328941, -0.0074381399899721146, 0.025051282718777657, -0.025224417448043823, 0.0004153571790084243, 0.015382366254925728, -0.002448859391734004, 0.006093015428632498, 0.0022507531102746725, -0.024478605017066002, -0.000401831028284505, -0.01905815303325653, -0.019444376230239868, -0.0038256144616752863, 0.03348161652684212, -0.014689827337861061, 0.03300216794013977, -0.015102687291800976, 0.00437165517359972, -0.0057767112739384174, 0.01201955508440733, -0.03987428918480873, -0.02614336460828781, -0.0005098322289995849, -0.00967557542026043, 0.004638016689568758, -0.013204862363636494, 0.0026719369925558567, -0.0025254383217543364, -0.01594172604382038, 0.007331595290452242, 0.03489333391189575, 0.0009955253917723894, -0.002761834068223834, 0.019084788858890533, 0.01045468170195818, 0.003227966371923685, -0.006522522773593664, 0.03737049177289009, 0.013617722317576408, 0.028394116088747978, -0.029113292694091797, 0.013238158077001572, -0.01968410238623619, 0.004285087808966637, -0.015542183071374893, -0.012891887687146664, 0.0059331986121833324, -0.012206007726490498, -0.005866608116775751, 0.002510455437004566, -0.004667981993407011, 0.029299745336174965, -0.006419308017939329, -0.029166564345359802, -0.009768801741302013, -0.01544895675033331, 0.026609495282173157, -0.03872893750667572, -0.01056122686713934, 0.010181661695241928, -0.01913806051015854, -0.00878992397338152, -0.020656321197748184, 0.022254489362239838, 0.011353651061654091, -0.053458716720342636, -0.008929762989282608, 0.004211838357150555, 0.007811045739799738, -0.022947028279304504, -0.02061636559665203, 0.0021891570650041103, -0.0009247732232324779, -0.01102735847234726, -0.012578913010656834, 0.007431481033563614, 0.014356874860823154, -0.020150234922766685, 0.005670166574418545, -0.0007150136516429484, 0.016114860773086548, -0.033135347068309784, 0.015076050534844398, 0.012012895196676254, -0.028074482455849648, -0.0031597111374139786, -0.020017053931951523, 0.015302457846701145, -0.00668899854645133, 0.009795437566936016, 0.024904783815145493, -0.004987615626305342, -0.02082945592701435, -0.004541460424661636, -0.0032895624171942472, 0.0058333128690719604, -0.03518633171916008, -0.007711160462349653, 0.015009460970759392, -0.009502439759671688, 0.0017846208065748215, -0.02081613801419735, -0.16908617317676544, 0.004171884153038263, 0.02363956719636917, -0.02374611236155033, 0.029592743143439293, 0.0010937461629509926, 0.01698053441941738, 0.005630212370306253, -0.03468024358153343, -0.010061798617243767, 0.004384973086416721, -0.00436832569539547, -0.024798238649964333, -0.027408579364418983, -0.018578702583909035, -0.007870976813137531, -0.0059165507555007935, 0.0069320532493293285, -0.004238474648445845, -0.009402554482221603, 0.023346569389104843, 0.0005922377458773553, 0.032416172325611115, -0.03081800416111946, -0.0033911126665771008, 0.021801674738526344, -0.0015074386028572917, -0.012245961464941502, -0.00023597948893439025, -0.013837470673024654, -0.018485475331544876, -0.004308394156396389, -0.003978772088885307, -0.002115907846018672, 0.00035355304135009646, -0.004384973086416721, -0.013577768579125404, -0.002400581492111087, -0.03771676495671272, 0.025783775374293327, 0.01540900208055973, 0.01052127219736576, 0.027648305520415306, 0.02019018866121769, -0.012758707627654076, 0.027728212997317314, 0.010534590110182762, 0.006559147499501705, 0.01957755722105503, -0.029273109510540962, 0.0034826742485165596, 6.003534508636221e-05, 0.01363104023039341, 0.005357191897928715, 0.0019877213053405285, -0.004228486213833094, -0.010547908022999763, 0.009602325968444347, 0.002843407215550542, -0.01801934279501438, -0.013051704503595829, -0.0007404012139886618, -0.0018195807933807373, 0.0072183916345238686, -0.01967078447341919, 0.0029216506518423557, -0.013264793902635574, 0.039607927203178406, -0.020176870748400688, 0.004731243010610342, -0.005876596551388502, -0.021894900128245354, -0.019178016111254692, 0.009762142784893513, 0.01666090078651905, 0.027461852878332138, -0.015382366254925728, 0.0038655686657875776, 0.018871700391173363, -0.0027302035596221685, 0.00319966534152627, 0.017206940799951553, -0.03489333391189575, 0.022720620036125183, -0.014330239035189152, 0.022147944197058678, 0.00873665139079094, 0.01580854505300522, -0.0032479434739798307, -0.021375495940446854, 0.020456548780202866, -0.019817281514406204, -0.006112992297858, -0.005493702366948128, -0.01594172604382038, 0.03244280815124512, -0.004421597812324762, -0.0023606272879987955, -0.006798872724175453, 0.022201215848326683, 0.010541249066591263, -0.015062732622027397, -0.03934156894683838, 0.03505314886569977, 0.025211099535226822, -0.0069853258319199085, 0.01571531780064106, 0.002230776008218527, 0.024998009204864502, -0.024904783815145493, -0.0057866997085511684, 0.017779618501663208, 0.014916233718395233, 0.031377363950014114, 0.0022957015316933393, 0.010048480704426765, -0.01936446875333786, -0.017886163666844368, 0.013877425342798233, -0.017979389056563377, 0.0275950338691473, 0.009469144977629185, 0.018458839505910873, 0.010701065883040428, -0.016927262768149376, -0.002510455437004566, -0.10190983861684799, -0.019337831065058708, -0.00879658292979002, -0.013504519127309322, -0.020057007670402527, 0.006316092796623707, 0.00821724720299244, 0.022813847288489342, -0.011473514139652252, 0.024838192388415337, 0.0013626046711578965, 0.0033761297818273306, -0.007111847400665283, -0.01020829752087593, 0.024185607209801674, -0.0070053027011454105, 0.004781185649335384, -0.00017022153770085424, -0.01431692112237215, 0.01139360573142767, 0.0034926629159599543, -0.012825298123061657, 0.0025870343670248985, -0.0025021317414939404, -0.0023939223028719425, 0.007604615762829781, -0.0384892113506794, 0.0061362991109490395, 0.00699864374473691, 0.01369097176939249, 0.006066379137337208, 2.8118807676946744e-05, 0.02008364349603653, -0.0025021317414939404, 0.002816770924255252, -0.002052646828815341, 0.007651228923350573, 0.00878992397338152, 0.024718331173062325, 0.015222549438476562, 0.004774526692926884, 0.005819994956254959, -0.0059265391901135445, -0.022214533761143684, 0.019830601289868355, -0.0015041091246530414, -0.015861816704273224, 0.03286898881196976, 0.01654103770852089, -0.01632794924080372, -0.010547908022999763, -0.025743821635842323, -0.020483186468482018, -0.010028503835201263, 0.028980111703276634, 0.01306502241641283, 0.007744455244392157, 0.025970228016376495, -0.017979389056563377, -0.003582559758797288, -0.016913944855332375, -0.024012472480535507, -0.041392549872398376, -0.00956903025507927, 0.005976482294499874, 0.00557361077517271, -0.009196124970912933, -0.023559659719467163, -0.006815520115196705, -0.0063693649135529995, -0.009022990241646767, -0.012325869873166084, -0.013311407528817654, 0.014956188388168812, -0.016194768249988556, -0.0058799260295927525, -0.026276543736457825, -0.026409724727272987, -0.010634475387632847, 0.01014836598187685, -0.012212666682898998, -0.01056788582354784, -0.009975231252610683, -0.0197640098631382, 0.022867118939757347, 0.021628540009260178, -0.02049650438129902, 0.01968410238623619, 0.0071251653134822845, -0.02756839618086815, -0.004245133604854345, 0.01698053441941738, 0.028394116088747978, -0.0038156260270625353, 0.001398396911099553, 0.010527931153774261, -0.02102922648191452, -0.0182191152125597, 0.014716463163495064, 0.007065234240144491, -0.0018895006505772471, -0.009722188115119934, -0.05982475355267525, 0.016101542860269547, 0.014609918929636478, -0.0070319389924407005, 0.025996865704655647, -0.011853078380227089, 0.01437019370496273, -0.025024646893143654, -0.009276033379137516, 0.005780040752142668, -0.01050795428454876, 0.021881582215428352, -0.011699921451508999, -0.014023923315107822, -0.012745389714837074, -0.028287572786211967, 0.03707749769091606, 0.00957568921148777, 0.017619801685214043, 0.010900837369263172, 0.006126310210675001, -0.010068457573652267, 0.015768589451909065, 0.029752559959888458, -0.016074905171990395, 0.015329093672335148, -0.03342834487557411, 0.02530432492494583, 0.014170422218739986, 0.013537813909351826, 0.001547392806969583, -0.027941303327679634, 0.019391104578971863, 0.033348437398672104, -0.015435638837516308, 0.006952030584216118, -0.006319422274827957, 0.028287572786211967, 0.008583493530750275, -0.015289139933884144, -0.0033728003036230803, -0.032016631215810776, 0.024838192388415337, -0.027541760355234146, -0.008130678907036781, -0.02321338839828968, -0.02791466750204563, 0.022147944197058678, 0.029193200170993805, 0.02061636559665203, 0.046799685806035995, 0.004711265675723553, 0.0012344182468950748, -0.03060491569340229, -0.0020593060180544853, -0.021482041105628014, 0.017459984868764877, 0.005636871326714754, 0.0017929446185007691, 0.012365824542939663, 0.004747890401631594, -0.019431058317422867, 0.008989694528281689, -0.040433648973703384, 0.00848360825330019, 0.029326381161808968, 0.0025187793653458357, -0.0011861402308568358, 0.012765366584062576, -0.018978243693709373, -0.00910955760627985, 0.004960979800671339, 0.004561437759548426, -0.0093759186565876, 0.024451969191432, -0.00468462985008955, -0.019843919202685356, 0.011240447871387005, 0.00874996930360794, 0.0007657887763343751, 0.014862962067127228, 0.01431692112237215, -0.017326803877949715, 0.010900837369263172, -0.0013800845481455326, 0.003715740516781807, -0.013191544450819492, -0.010308182798326015, -0.005217352416366339, -0.008183951489627361, -0.02383933775126934, 0.0069853258319199085, -0.0029249803628772497, -0.013970651663839817, -0.004208508878946304, 0.003019871423020959, 0.006732282228767872, -0.019803963601589203, 0.001961085246875882, 0.02716885507106781, 0.01363104023039341, -0.012425756081938744, 0.0037124110385775566, -0.012778684496879578, -0.0447753369808197, 0.016101542860269547, -0.00102882063947618, -0.03406761214137077, -0.012252620421350002, 0.01437019370496273, 0.00785765890032053, -0.03278907760977745, 0.02009696140885353, 0.024838192388415337, -0.014037241227924824, 0.0296460147947073, -0.00608635600656271, 0.02527768909931183, -0.035639144480228424, 0.026249907910823822, 0.03081800416111946, 0.010035162791609764, 0.0028816964477300644, 0.021162407472729683, 0.0010479653719812632, -0.009509099647402763, -0.004175213631242514, -0.01399728748947382, 0.012379142455756664, 0.012086144648492336, -0.015582137741148472, -0.033987704664468765, -0.02561064064502716, 0.010927473194897175, 0.008456972427666187, 0.0009222760563716292, 0.019803963601589203, 0.03579896315932274, -0.04400289058685303, 0.05961166322231293, 0.010980745777487755, 0.008603470399975777, 0.003762353677302599, 0.007131824269890785, 0.013890743255615234, 0.01965746469795704, -0.0017529904143884778, -0.011180516332387924, -0.009535735473036766, -0.000138070885441266, -0.006788884289562702, 0.013331384398043156, -0.020017053931951523, -0.018032660707831383, 0.015209231525659561, -0.019590875133872032, -0.012705435045063496, 0.00189948920160532, -0.010428045876324177, 0.012698776088654995, 0.004601391963660717, 0.025837048888206482, -0.0036091958172619343, -0.024638421833515167, -0.021495359018445015, -0.011253765784204006, -0.028500661253929138, -0.012106122449040413, -0.057214412838220596, 0.012991773895919323, 0.027728212997317314, -0.04038037732243538, -0.00999520905315876, -0.003178023500367999, -0.014436783269047737, -0.03497324138879776, 0.01249234564602375, -0.008656742982566357, -0.0014466749271377921, 0.004364996217191219, 0.017926117405295372, -0.029326381161808968, 0.002184162847697735, 0.007831023074686527, 0.011626671999692917, -0.03808967024087906, -0.003948806785047054, -0.004884400870651007], '@search.action': 'upload'}\n",
      "{'@odata.context': \"https://ragreview.search.windows.net/indexes('search-review')/$metadata#Collection(Microsoft.Azure.Search.V2023_10_01_Preview.IndexResult)\", 'value': [{'key': '1', 'status': True, 'errorMessage': None, 'statusCode': 200}, {'key': '2', 'status': True, 'errorMessage': None, 'statusCode': 200}, {'key': '3', 'status': True, 'errorMessage': None, 'statusCode': 200}, {'key': '4', 'status': True, 'errorMessage': None, 'statusCode': 200}, {'key': '5', 'status': True, 'errorMessage': None, 'statusCode': 200}, {'key': '6', 'status': True, 'errorMessage': None, 'statusCode': 200}, {'key': '7', 'status': True, 'errorMessage': None, 'statusCode': 200}, {'key': '8', 'status': True, 'errorMessage': None, 'statusCode': 200}, {'key': '9', 'status': True, 'errorMessage': None, 'statusCode': 200}, {'key': '10', 'status': True, 'errorMessage': None, 'statusCode': 200}, {'key': '11', 'status': True, 'errorMessage': None, 'statusCode': 200}, {'key': '12', 'status': True, 'errorMessage': None, 'statusCode': 200}, {'key': '13', 'status': True, 'errorMessage': None, 'statusCode': 200}, {'key': '14', 'status': True, 'errorMessage': None, 'statusCode': 200}, {'key': '15', 'status': True, 'errorMessage': None, 'statusCode': 200}, {'key': '16', 'status': True, 'errorMessage': None, 'statusCode': 200}, {'key': '17', 'status': True, 'errorMessage': None, 'statusCode': 200}, {'key': '18', 'status': True, 'errorMessage': None, 'statusCode': 200}, {'key': '19', 'status': True, 'errorMessage': None, 'statusCode': 200}, {'key': '20', 'status': True, 'errorMessage': None, 'statusCode': 200}, {'key': '21', 'status': True, 'errorMessage': None, 'statusCode': 200}, {'key': '22', 'status': True, 'errorMessage': None, 'statusCode': 200}, {'key': '23', 'status': True, 'errorMessage': None, 'statusCode': 200}, {'key': '24', 'status': True, 'errorMessage': None, 'statusCode': 200}, {'key': '25', 'status': True, 'errorMessage': None, 'statusCode': 200}, {'key': '26', 'status': True, 'errorMessage': None, 'statusCode': 200}, {'key': '27', 'status': True, 'errorMessage': None, 'statusCode': 200}, {'key': '28', 'status': True, 'errorMessage': None, 'statusCode': 200}, {'key': '29', 'status': True, 'errorMessage': None, 'statusCode': 200}, {'key': '30', 'status': True, 'errorMessage': None, 'statusCode': 200}, {'key': '31', 'status': True, 'errorMessage': None, 'statusCode': 200}, {'key': '32', 'status': True, 'errorMessage': None, 'statusCode': 200}, {'key': '33', 'status': True, 'errorMessage': None, 'statusCode': 200}, {'key': '34', 'status': True, 'errorMessage': None, 'statusCode': 200}, {'key': '35', 'status': True, 'errorMessage': None, 'statusCode': 200}, {'key': '36', 'status': True, 'errorMessage': None, 'statusCode': 200}, {'key': '37', 'status': True, 'errorMessage': None, 'statusCode': 200}, {'key': '38', 'status': True, 'errorMessage': None, 'statusCode': 200}, {'key': '39', 'status': True, 'errorMessage': None, 'statusCode': 200}, {'key': '40', 'status': True, 'errorMessage': None, 'statusCode': 200}, {'key': '41', 'status': True, 'errorMessage': None, 'statusCode': 200}, {'key': '42', 'status': True, 'errorMessage': None, 'statusCode': 200}, {'key': '43', 'status': True, 'errorMessage': None, 'statusCode': 200}, {'key': '44', 'status': True, 'errorMessage': None, 'statusCode': 200}, {'key': '45', 'status': True, 'errorMessage': None, 'statusCode': 200}, {'key': '46', 'status': True, 'errorMessage': None, 'statusCode': 200}, {'key': '47', 'status': True, 'errorMessage': None, 'statusCode': 200}, {'key': '48', 'status': True, 'errorMessage': None, 'statusCode': 200}, {'key': '49', 'status': True, 'errorMessage': None, 'statusCode': 200}, {'key': '50', 'status': True, 'errorMessage': None, 'statusCode': 200}, {'key': '51', 'status': True, 'errorMessage': None, 'statusCode': 200}, {'key': '52', 'status': True, 'errorMessage': None, 'statusCode': 200}, {'key': '53', 'status': True, 'errorMessage': None, 'statusCode': 200}, {'key': '54', 'status': True, 'errorMessage': None, 'statusCode': 200}, {'key': '55', 'status': True, 'errorMessage': None, 'statusCode': 200}, {'key': '56', 'status': True, 'errorMessage': None, 'statusCode': 200}, {'key': '57', 'status': True, 'errorMessage': None, 'statusCode': 200}, {'key': '58', 'status': True, 'errorMessage': None, 'statusCode': 200}, {'key': '59', 'status': True, 'errorMessage': None, 'statusCode': 200}, {'key': '60', 'status': True, 'errorMessage': None, 'statusCode': 200}, {'key': '61', 'status': True, 'errorMessage': None, 'statusCode': 200}, {'key': '62', 'status': True, 'errorMessage': None, 'statusCode': 200}, {'key': '63', 'status': True, 'errorMessage': None, 'statusCode': 200}, {'key': '64', 'status': True, 'errorMessage': None, 'statusCode': 200}, {'key': '65', 'status': True, 'errorMessage': None, 'statusCode': 200}, {'key': '66', 'status': True, 'errorMessage': None, 'statusCode': 200}, {'key': '67', 'status': True, 'errorMessage': None, 'statusCode': 200}, {'key': '68', 'status': True, 'errorMessage': None, 'statusCode': 200}, {'key': '69', 'status': True, 'errorMessage': None, 'statusCode': 200}, {'key': '70', 'status': True, 'errorMessage': None, 'statusCode': 200}, {'key': '71', 'status': True, 'errorMessage': None, 'statusCode': 200}, {'key': '72', 'status': True, 'errorMessage': None, 'statusCode': 200}, {'key': '73', 'status': True, 'errorMessage': None, 'statusCode': 200}, {'key': '74', 'status': True, 'errorMessage': None, 'statusCode': 200}, {'key': '75', 'status': True, 'errorMessage': None, 'statusCode': 200}, {'key': '76', 'status': True, 'errorMessage': None, 'statusCode': 200}, {'key': '77', 'status': True, 'errorMessage': None, 'statusCode': 200}, {'key': '78', 'status': True, 'errorMessage': None, 'statusCode': 200}, {'key': '79', 'status': True, 'errorMessage': None, 'statusCode': 200}, {'key': '80', 'status': True, 'errorMessage': None, 'statusCode': 200}, {'key': '81', 'status': True, 'errorMessage': None, 'statusCode': 200}, {'key': '82', 'status': True, 'errorMessage': None, 'statusCode': 200}, {'key': '83', 'status': True, 'errorMessage': None, 'statusCode': 200}, {'key': '84', 'status': True, 'errorMessage': None, 'statusCode': 200}, {'key': '85', 'status': True, 'errorMessage': None, 'statusCode': 200}, {'key': '86', 'status': True, 'errorMessage': None, 'statusCode': 200}, {'key': '87', 'status': True, 'errorMessage': None, 'statusCode': 200}, {'key': '88', 'status': True, 'errorMessage': None, 'statusCode': 200}, {'key': '89', 'status': True, 'errorMessage': None, 'statusCode': 200}, {'key': '90', 'status': True, 'errorMessage': None, 'statusCode': 200}, {'key': '91', 'status': True, 'errorMessage': None, 'statusCode': 200}, {'key': '92', 'status': True, 'errorMessage': None, 'statusCode': 200}, {'key': '93', 'status': True, 'errorMessage': None, 'statusCode': 200}, {'key': '94', 'status': True, 'errorMessage': None, 'statusCode': 200}, {'key': '95', 'status': True, 'errorMessage': None, 'statusCode': 200}, {'key': '96', 'status': True, 'errorMessage': None, 'statusCode': 200}, {'key': '97', 'status': True, 'errorMessage': None, 'statusCode': 200}, {'key': '98', 'status': True, 'errorMessage': None, 'statusCode': 200}, {'key': '99', 'status': True, 'errorMessage': None, 'statusCode': 200}]}\n"
     ]
    },
    {
     "data": {
      "text/plain": [
       "'Success'"
      ]
     },
     "execution_count": 10,
     "metadata": {},
     "output_type": "execute_result"
    }
   ],
   "source": [
    "def batch_append_payload(df):\n",
    "    # Append the data/payload of the embeddings in batches into Azure AI Seaech\n",
    "    list_values = []\n",
    "    for index, row in df.iterrows():\n",
    "        list_values.append(\n",
    "            {\n",
    "            \"id\": str(index),\n",
    "            \"contentVector\": row['embeddings'],\n",
    "            \"@search.action\": \"upload\"\n",
    "            }\n",
    "        )\n",
    "    print('payload of size {}'.format(len(list_values)))\n",
    "    print('start: {}'.format(list_values[0]))\n",
    "    print('end: {}'.format(list_values[-1]))\n",
    "    payload = json.dumps({\n",
    "        \"value\": list_values\n",
    "    })\n",
    "    return payload\n",
    "\n",
    "def InsertBatchintoCogSearch(df):\n",
    "    # Insert Batch into Azure AI Search\n",
    "    url = f\"https://{cog_search_name}.search.windows.net/indexes/{cog_search_index}/docs/index?api-version=2023-10-01-Preview\"\n",
    "    payload = batch_append_payload(df)\n",
    "    headers = {\n",
    "    'Content-Type': 'application/json',\n",
    "    'api-key': cog_search_key,\n",
    "    }\n",
    "\n",
    "    response = requests.request(\"POST\", url, headers=headers, data=payload)\n",
    "    print(response.json())\n",
    "\n",
    "    if response.status_code == 200 or response.status_code == 201:\n",
    "        return \"Success\"\n",
    "    else:\n",
    "        return \"Failure\"\n",
    "    \n",
    "InsertBatchintoCogSearch(df)"
   ]
  },
  {
   "cell_type": "markdown",
   "metadata": {},
   "source": [
    "Lets convert a user question to an embedding and then retrieve the Top K chunks based on users question using the cosine similarity."
   ]
  },
  {
   "cell_type": "code",
   "execution_count": 19,
   "metadata": {},
   "outputs": [],
   "source": [
    "question = \"I love those candies\"\n",
    "retrieve_topK_element = 4\n"
   ]
  },
  {
   "cell_type": "code",
   "execution_count": 20,
   "metadata": {},
   "outputs": [
    {
     "name": "stdout",
     "output_type": "stream",
     "text": [
      "200\n",
      "4\n"
     ]
    }
   ],
   "source": [
    "# retrieve k chnuks\n",
    "def retrieve_k_chunk(k, questionEmbedding):\n",
    "    # Retrieve the top K entries\n",
    "    url = f\"https://{cog_search_name}.search.windows.net/indexes/{cog_search_index}/docs/search?api-version=2023-10-01-Preview\"\n",
    "\n",
    "    payload = json.dumps({\n",
    "    \"vectorQueries\": [\n",
    "        {\n",
    "            \"kind\": \"vector\",\n",
    "            \"vector\": questionEmbedding,\n",
    "            \"fields\": \"contentVector\",\n",
    "            \"k\": k\n",
    "        }\n",
    "    ]\n",
    "    })\n",
    "    headers = {\n",
    "    'Content-Type': 'application/json',\n",
    "    'api-key': cog_search_key,\n",
    "    }\n",
    "\n",
    "    response = requests.request(\"POST\", url, headers=headers, data=payload)\n",
    "    output = json.loads(response.text)\n",
    "    print(response.status_code)\n",
    "    return output\n",
    "\n",
    "# Generate embeddings for the question and retrieve the top k document chunks\n",
    "questionEmbedding = createEmbeddings(question)\n",
    "output = retrieve_k_chunk(retrieve_topK_element, questionEmbedding)\n",
    "print(len(output['value']))"
   ]
  },
  {
   "cell_type": "code",
   "execution_count": 21,
   "metadata": {},
   "outputs": [
    {
     "name": "stdout",
     "output_type": "stream",
     "text": [
      "[24, 17, 23, 15]\n"
     ]
    }
   ],
   "source": [
    "# Use the top k ids to retrieve the actual text from the database \n",
    "top_ids = []\n",
    "for i in range(len(output['value'])):\n",
    "    top_ids.append(int(output['value'][i]['id']))\n",
    "\n",
    "print(top_ids)"
   ]
  },
  {
   "cell_type": "code",
   "execution_count": 22,
   "metadata": {},
   "outputs": [
    {
     "name": "stdout",
     "output_type": "stream",
     "text": [
      "('productid: B001GVISJM score: 5 text: The Strawberry Twizzlers are my guilty pleasure - yummy. Six pounds will be around for a while with my son and I.',)\n",
      "('productid: B001GVISJM score: 2 text: I love eating them and they are good for watching TV and looking at movies! It is not too sweet. I like to transfer them to a zip lock baggie so they stay fresh so I can take my time eating them.',)\n",
      "(\"productid: B001GVISJM score: 5 text: I can remember buying this candy as a kid and the quality hasn't dropped in all these years. Still a superb product you won't be disappointed with.\",)\n",
      "('productid: B001GVISJM score: 5 text: I love this candy.  After weight watchers I had to cut back but still have a craving for it.',)\n"
     ]
    }
   ],
   "source": [
    "# Assuming you have already established a connection and have a cursor object\n",
    "top_ids_string = ', '.join(map(str, top_ids))\n",
    "\n",
    "sql = f\"SELECT CONCAT('productid: ', productid, ' ', 'score: ', score, ' ', 'text: ', text) AS concat FROM food_review WHERE Id IN ({top_ids_string})\"\n",
    "\n",
    "# Execute the SELECT statement\n",
    "try:\n",
    "    cursor.execute(sql)    \n",
    "    top_rows = cursor.fetchall()\n",
    "    for row in top_rows:\n",
    "        print(row)\n",
    "except (Exception) as e:\n",
    "    print(f\"Error executing SELECT statement: {e}\")"
   ]
  },
  {
   "cell_type": "code",
   "execution_count": 23,
   "metadata": {},
   "outputs": [],
   "source": [
    "# create a prompt template \n",
    "template = \"\"\"\n",
    "    context :{context}\n",
    "    Answer the question based on the context above. Provide the product id associated with the answer as well. If the\n",
    "    information to answer the question is not present in the given context then reply \"I don't know\".\n",
    "    Question: {query}\n",
    "    Answer: \"\"\""
   ]
  },
  {
   "cell_type": "code",
   "execution_count": 24,
   "metadata": {},
   "outputs": [
    {
     "name": "stdout",
     "output_type": "stream",
     "text": [
      "productid: B001GVISJM score: 5 text: The Strawberry Twizzlers are my guilty pleasure - yummy. Six pounds will be around for a while with my son and I.\n",
      "productid: B001GVISJM score: 2 text: I love eating them and they are good for watching TV and looking at movies! It is not too sweet. I like to transfer them to a zip lock baggie so they stay fresh so I can take my time eating them.\n",
      "productid: B001GVISJM score: 5 text: I can remember buying this candy as a kid and the quality hasn't dropped in all these years. Still a superb product you won't be disappointed with.\n",
      "productid: B001GVISJM score: 5 text: I love this candy.  After weight watchers I had to cut back but still have a craving for it.\n",
      "\n"
     ]
    }
   ],
   "source": [
    "# create the context from the top_rows\n",
    "context = \"\"\n",
    "for row in top_rows:\n",
    "    context += row[0]\n",
    "    context += \"\\n\"\n",
    "    \n",
    "print(context)"
   ]
  },
  {
   "cell_type": "code",
   "execution_count": 25,
   "metadata": {},
   "outputs": [
    {
     "name": "stdout",
     "output_type": "stream",
     "text": [
      "I love those candies\n",
      "\n",
      "    context :productid: B001GVISJM score: 5 text: The Strawberry Twizzlers are my guilty pleasure - yummy. Six pounds will be around for a while with my son and I.\n",
      "productid: B001GVISJM score: 2 text: I love eating them and they are good for watching TV and looking at movies! It is not too sweet. I like to transfer them to a zip lock baggie so they stay fresh so I can take my time eating them.\n",
      "productid: B001GVISJM score: 5 text: I can remember buying this candy as a kid and the quality hasn't dropped in all these years. Still a superb product you won't be disappointed with.\n",
      "productid: B001GVISJM score: 5 text: I love this candy.  After weight watchers I had to cut back but still have a craving for it.\n",
      "\n",
      "    Answer the question based on the context above. Provide the product id associated with the answer as well. If the\n",
      "    information to answer the question is not present in the given context then reply \"I don't know\".\n",
      "    Question: I love those candies\n",
      "    Answer: \n"
     ]
    }
   ],
   "source": [
    "print(question)\n",
    "user_input = template.format(context=context, query=question)\n",
    "print(user_input)\n",
    "\n"
   ]
  },
  {
   "cell_type": "code",
   "execution_count": 26,
   "metadata": {},
   "outputs": [
    {
     "name": "stdout",
     "output_type": "stream",
     "text": [
      "Based on your statement, it seems you're referring to the product with id B001GVISJM.\n"
     ]
    }
   ],
   "source": [
    "\n",
    "response = chat_client.chat.completions.create(\n",
    "    model=\"gpt-4\", \n",
    "    messages=[\n",
    "        {\"role\": \"system\", \"content\": \"You are a helpful assistant.\"},\n",
    "        {\"role\": \"user\", \"content\": user_input}\n",
    "    ],\n",
    "    max_tokens=1024,\n",
    "    n=1,\n",
    "    temperature=1\n",
    ")\n",
    "# response_message = response.choices[0].message\n",
    "# print(response_message)\n",
    "response_dict = response.model_dump()    # <--- convert to dictionary\n",
    "response_message = response_dict[\"choices\"][0][\"message\"][\"content\"]\n",
    "print(response_message)\n",
    "\n",
    "# git rm -r --cached .env                                                                                                               \n",
    "# >> \n",
    "# >> git add .\n",
    "# >> git commit -m 'your message'\n",
    "# >> git push"
   ]
  }
 ],
 "metadata": {
  "kernelspec": {
   "display_name": ".venv",
   "language": "python",
   "name": "python3"
  },
  "language_info": {
   "codemirror_mode": {
    "name": "ipython",
    "version": 3
   },
   "file_extension": ".py",
   "mimetype": "text/x-python",
   "name": "python",
   "nbconvert_exporter": "python",
   "pygments_lexer": "ipython3",
   "version": "3.12.2"
  }
 },
 "nbformat": 4,
 "nbformat_minor": 2
}
